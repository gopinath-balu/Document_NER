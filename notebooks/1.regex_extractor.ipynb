{
 "cells": [
  {
   "cell_type": "code",
   "execution_count": 1,
   "metadata": {},
   "outputs": [],
   "source": [
    "import re\n",
    "import random\n",
    "from tqdm.notebook import tqdm\n",
    "from tika import parser\n",
    "\n",
    "import warnings\n",
    "from pathlib import Path"
   ]
  },
  {
   "cell_type": "code",
   "execution_count": 2,
   "metadata": {},
   "outputs": [],
   "source": [
    "pdf_file = '/Users/gopinath.balu/Downloads/text_extraction/data/Use caes NLP.pdf'\n",
    "remove_newline = lambda x: x.replace('\\n', ' ').strip()"
   ]
  },
  {
   "cell_type": "code",
   "execution_count": 10,
   "metadata": {},
   "outputs": [
    {
     "data": {
      "text/plain": [
       "(['Art. client: 924734', 'Art. client: 929735'],\n",
       " ['49,97 €  / 1.000',\n",
       "  '48,97 €  / 1.000',\n",
       "  '28,63 €  / 1.000',\n",
       "  '28,63 €  / 1.000'])"
      ]
     },
     "execution_count": 10,
     "metadata": {},
     "output_type": "execute_result"
    }
   ],
   "source": [
    "def regex_extract(document_path: str) -> list:\n",
    "    \"\"\"Regex extraciont\n",
    "\n",
    "    Args:\n",
    "        document (str): Input document\n",
    "\n",
    "    Returns:\n",
    "        list: Extracted info\n",
    "    \"\"\"\n",
    "\n",
    "    raw = parser.from_file(document_path)\n",
    "    content = raw['content']\n",
    "    actual_content = remove_newline(content)\n",
    "\n",
    "    ART_ID_PATTERN = r\"(Art. client: \\d{6,})\"\n",
    "    PRICE_PATTERN = r\"(\\d{1,},\\d{1,}\\s+€\\s+/\\s+1.0+)\"\n",
    "\n",
    "    id_matches = re.findall(ART_ID_PATTERN, actual_content)\n",
    "    price_matches = re.findall(PRICE_PATTERN, actual_content)\n",
    "\n",
    "    return (id_matches, price_matches)\n",
    "\n",
    "regex_extract(pdf_file)\n"
   ]
  }
 ],
 "metadata": {
  "interpreter": {
   "hash": "a3bdab6f35d6e2d330246078e157c8a60d05073498af0570789dd7e947495cc0"
  },
  "kernelspec": {
   "display_name": "Python 3.9.6 ('dlarith')",
   "language": "python",
   "name": "python3"
  },
  "language_info": {
   "codemirror_mode": {
    "name": "ipython",
    "version": 3
   },
   "file_extension": ".py",
   "mimetype": "text/x-python",
   "name": "python",
   "nbconvert_exporter": "python",
   "pygments_lexer": "ipython3",
   "version": "3.9.6"
  },
  "orig_nbformat": 4
 },
 "nbformat": 4,
 "nbformat_minor": 2
}
