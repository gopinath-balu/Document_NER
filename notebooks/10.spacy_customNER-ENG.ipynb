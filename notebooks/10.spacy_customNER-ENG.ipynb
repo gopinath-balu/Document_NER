{
 "cells": [
  {
   "cell_type": "code",
   "execution_count": null,
   "metadata": {},
   "outputs": [],
   "source": [
    "import re\n",
    "import random\n",
    "from tqdm.notebook import tqdm\n",
    "from tika import parser, translate\n",
    "\n",
    "import warnings\n",
    "warnings.filterwarnings(\"ignore\")\n",
    "from pathlib import Path\n",
    "\n",
    "import spacy\n",
    "from thinc.api import SGD, Adam\n",
    "from spacy.tokens import DocBin"
   ]
  },
  {
   "cell_type": "code",
   "execution_count": 2,
   "metadata": {},
   "outputs": [],
   "source": [
    "# pdf_file = '/Users/gopinath.balu/Downloads/text_extraction/data/Use caes NLP.pdf'\n",
    "pdf_file = '/home/admin/gopi/Workspace/text_extraction/data/Use caes NLP.pdf'"
   ]
  },
  {
   "cell_type": "code",
   "execution_count": 3,
   "metadata": {},
   "outputs": [],
   "source": [
    "# raw = parser.from_file(pdf_file)\n",
    "# content = raw['content']"
   ]
  },
  {
   "cell_type": "code",
   "execution_count": 4,
   "metadata": {},
   "outputs": [],
   "source": [
    "remove_newline = lambda x: x.replace('\\n', ' ').strip()"
   ]
  },
  {
   "cell_type": "code",
   "execution_count": 6,
   "metadata": {},
   "outputs": [],
   "source": [
    "# actual_content = remove_newline(content)"
   ]
  },
  {
   "cell_type": "code",
   "execution_count": 7,
   "metadata": {},
   "outputs": [],
   "source": [
    "actual_content_eng = \"TVA number: BE 0425.888.396 RPR GENT KBC IBAN BE50 4459 6389 4118 BIC Kredbebbb ING IBAN BE98 3900 3232 4293 BIC BBRUBEBB BNP IBAN BE78 2900 1606 0086 0086 BIC Gebabb BEL IBAN BE30 5645 Heirweg 170 9090 Melle - Belgium Tel. +32 (0)9 272 70 70 info@pgb-europe.com Fax +32 (0)9 272 70 99 www.pgb-europe.com ISO 9001 Certified Company ORDER CONFIRMATION - 301437 Document date 02/05/ 2022 Customer number 1000293 Customer VAT number BE0415809702 Your ref. 13639 E-mail florine.fernez@plasticentre.be Tel. 069532060 Plasticentre sa Lid Menouquin: 115 /PLH Chée de Russeignies 11 9600 Ronse Billing address Menouquin sv Pro Groep Meno0 Vieux Chemin de Thines 14 1400 Nivelles our general conditions of sale and delivery on this document or via the following link: https://www.pgb-europe.com/fr-fr/legal/terms-and-conditions Payment terms Due in 60 days Delivery terms CPT (Postage Paid) Leuze-en-Hainaut Postage cost 250€ POS. DESCRIPTION QUANTITY ORDERED QUANTITY CONFIRMED PRICE / UNIT NET / UNIT NET AMOUNT 10 PFWVTG001005000803 / PWVTGG50080 Z (*) Panel screw PFS+ TF-T * 5.00x80 Zn (T25) double flat head six lobes int. with ribs partial thread - cutting tip T17 standard packaging Art. customer: 924734 QTY: 200 Pce Requested: 2,000 Pce Rounded: 2,400 Pce Stock: 2,400 Pce 49.97 € / 1,000 Pce -2 % 48.97 € / 1,000 Pce 117.53 € 20 PFWVTV001004500603 / PWVTVK45060 Screw à (*) panels PFS+ TF-T * 4.50x60 Zn (T20) double flat head six lobes int. with full thread ribs - cutting tip T17 small packaging Art. customer: 929735 QTY: 200 pcs 2,400 pcs Stock: 2,400 pcs €28.63 / 1,000 pcs €28.63 / 1,000 pcs €68.71 Subtotal €188.64 Cumulative discount -€2.40 Net amount €186.24 VAT (21%) €39.11 Total amount €225.35 Gross weight 27,600 KG ORDER CONFIRMATION - 301437 Document date 02/05/2022 2 / 2 We remain at your disposal for any further information. Sofie Van Dorpe Sales sofie.van.dorpe@pgb-europe.com +32 92727072 (*) Chrome VI free in accordance with the RoHS directive (directive 2011/65 /EU).\""
   ]
  },
  {
   "cell_type": "code",
   "execution_count": null,
   "metadata": {},
   "outputs": [],
   "source": [
    "edited_content = translate.from_buffer(actual_content, 'fr', 'en')"
   ]
  },
  {
   "cell_type": "code",
   "execution_count": 20,
   "metadata": {},
   "outputs": [],
   "source": [
    "edited_content = \"TVA number: BE 0425.888.396 RPR GENT KBC IBAN BE50 4459 6389 4118 BIC Kredbebbb ING IBAN BE98 3900 3232 4293 BIC BBRUBEBB BNP IBAN BE78 2900 1606 0086 0086 BIC Gebabb BEL IBAN BE30 5645 Heirweg 170 9090 Melle - Belgium Tel. +32 (0)9 272 70 70 info@pgb-europe.com Fax +32 (0)9 272 70 99 www.pgb-europe.com ISO 9001 Certified Company ORDER CONFIRMATION - 301437 Document date 02/05/ 2022 Customer number 1000293 Customer VAT number BE0415809702 Your ref. 13639 E-mail florine.fernez@plasticentre.be Tel. 069532060 Plasticentre sa Lid Menouquin: 115 /PLH Chée de Russeignies 11 9600 Ronse Billing address Menouquin sv Pro Groep Meno0 Vieux Chemin de Thines 14 1400 Nivelles our general conditions of sale and delivery on this document or via the following link: https://www.pgb-europe.com/fr-fr/legal/terms-and-conditions Payment terms Due in 60 days Delivery terms CPT (Postage Paid) Leuze-en-Hainaut Postage cost 250€ POS. DESCRIPTION QUANTITY ORDERED QUANTITY CONFIRMED PRICE / UNIT NET / UNIT NET AMOUNT 10 PFWVTG001005000803 / PWVTGG50080 Z (*) Panel screw PFS+ TF-T * 5.00x80 Zn (T25) double flat head six lobes int. with ribs partial thread - cutting tip T17 standard packaging Art. client: {} QTY: 200 Pce Requested: 2,000 Pce Rounded: 2,400 Pce Stock: 2,400 Pce {} Pce -2 % {} Pce 117.53 € 20 PFWVTV001004500603 / PWVTVK45060 Screw à (*) panels PFS+ TF-T * 4.50x60 Zn (T20) double flat head six lobes int. with full thread ribs - cutting tip T17 small packaging Art. client: {} QTY: 200 pcs 2,400 pcs Stock: 2,400 pcs {} {} pcs €68.71 Subtotal €188.64 Cumulative discount -€2.40 Net amount €186.24 VAT (21%) €39.11 Total amount €225.35 Gross weight 27,600 KG ORDER CONFIRMATION - 301437 Document date 02/05/2022 2 / 2 We remain at your disposal for any further information. Sofie Van Dorpe Sales sofie.van.dorpe@pgb-europe.com +32 92727072 (*) Chrome VI free in accordance with the RoHS directive (directive 2011/65 /EU).\""
   ]
  },
  {
   "cell_type": "code",
   "execution_count": 9,
   "metadata": {},
   "outputs": [],
   "source": [
    "#items_to_extract = ['Art. client: 924734', '49,97 €  / 1.000', '48,97 €  / 1.000', 'Art. client: 929735', '28,63 €  / 1.000', '28,63 €  / 1.000']"
   ]
  },
  {
   "cell_type": "code",
   "execution_count": 9,
   "metadata": {},
   "outputs": [],
   "source": [
    "art_clients = [f'{random.randint(10000, 999999)}' for i in range(100)]\n",
    "prices1 = [f'{random.randint(1, 999)},{random.randint(0, 99)} / 1.000' for i in range(100)]\n",
    "prices2 = [f'{random.randint(1, 999)},{random.randint(0, 99)} / 1.000' for i in range(100)]"
   ]
  },
  {
   "cell_type": "code",
   "execution_count": 10,
   "metadata": {},
   "outputs": [],
   "source": [
    "global info_corpus\n",
    "info_corpus = list(zip(art_clients, prices1, prices2))\n",
    "# info_corpus = info_corpus[:10]"
   ]
  },
  {
   "cell_type": "code",
   "execution_count": 11,
   "metadata": {},
   "outputs": [],
   "source": [
    "def shuffle_word(input_sentence: str) -> str:\n",
    "    \"\"\"Shuffle the input string\n",
    "\n",
    "    Args:\n",
    "        word (str): Input string\n",
    "\n",
    "    Returns:\n",
    "        str: Shuffled output\n",
    "    \"\"\"\n",
    "\n",
    "    words = input_sentence.split(' ')\n",
    "    random.shuffle(words)\n",
    "    return ' '.join(words)\n",
    "\n",
    "def get_items(n: int) -> list:\n",
    "    \"\"\"Get generated info from the list\n",
    "\n",
    "    Args:\n",
    "        n (int): N no of items to fetch\n",
    "\n",
    "    Returns:\n",
    "        list: return list\n",
    "    \"\"\"\n",
    "\n",
    "    if len(info_corpus) > n:\n",
    "        result = random.sample(info_corpus, n)\n",
    "        for item in result:\n",
    "            info_corpus.remove(item)\n",
    "    else:\n",
    "        result = random.sample(info_corpus, len(info_corpus))\n",
    "        for item in result:\n",
    "            info_corpus.remove(item)\n",
    "    return result\n",
    "\n",
    "def insert_entries(doc_content: str, entities_list: list) -> str:\n",
    "    \"\"\"Insert given entities into the document content\n",
    "\n",
    "    Args:\n",
    "        doc_content (str): Document content\n",
    "        entities_list (list): List of entities\n",
    "\n",
    "    Returns:\n",
    "        str: Document with the inserted entities\n",
    "    \"\"\"\n",
    "    entity_label_list = list()\n",
    "    return_entity_dict = dict()\n",
    "    # doc_length = len(doc_content.split())\n",
    "    # randidx = random.randint(50, int(doc_length/2))\n",
    "    \n",
    "    # for artid, price1, price2 in entities_list:\n",
    "    #     doc_word_list = doc_content.split(' ')\n",
    "    #     # doc_word_list.insert(randidx, artid)\n",
    "    #     doc_word_list.insert(randidx+random.choice([32, 48]), price1)\n",
    "    #     doc_word_list.insert(randidx+random.choice([64, 128]), price2)\n",
    "    #     doc_content = ' '.join([str(i) for i in doc_word_list])\n",
    "    #     randidx = randidx + random.choice([32, 64])\n",
    "    \n",
    "    merged_entities_list = entities_list[0] + entities_list[1]\n",
    "    doc_content = doc_content.format(*merged_entities_list)\n",
    "    \n",
    "    for items in entities_list:\n",
    "        for item in items:\n",
    "            if '/' not in item.lower():\n",
    "                start, end = re.search(item, doc_content).span()\n",
    "                entity_label_list.append((start, end, 'Art ID'))\n",
    "                pass\n",
    "            else:\n",
    "                start, end = re.search(item, doc_content).span()\n",
    "                entity_label_list.append((start, end, 'Price per Unit'))\n",
    "    return_entity_dict['entities'] = entity_label_list\n",
    "        \n",
    "        \n",
    "    return [doc_content, return_entity_dict]"
   ]
  },
  {
   "cell_type": "code",
   "execution_count": 12,
   "metadata": {},
   "outputs": [],
   "source": [
    "def generate_synthetic_data(doc_content: str, data_corpus: list) -> None:\n",
    "    \"\"\"To generate synthetic data to train SpaCy custom NER model. \n",
    "    This returns None but generates a training data.\n",
    "\n",
    "    Args:\n",
    "        doc_content (str): Input document content, which will be \n",
    "                           modified.\n",
    "        data_corpus (list): Input list of items to be placed \n",
    "                            randomly in the document.\n",
    "    \"\"\"\n",
    "    \n",
    "\n",
    "\n",
    "    data_list = list()\n",
    "    len_doc = len(doc_content)\n",
    "\n",
    "    while len(info_corpus) > 0:\n",
    "        no_of_samples = 2 #random.randint(1, 2)\n",
    "        # new_doc_content = shuffle_word(doc_content)\n",
    "        new_doc_content = doc_content\n",
    "        entities = get_items(no_of_samples)\n",
    "        data_list.append(insert_entries(new_doc_content, entities))\n",
    "        \n",
    "    return data_list\n",
    "\n",
    "TRAINING_DATA = generate_synthetic_data(edited_content, info_corpus)\n"
   ]
  },
  {
   "cell_type": "code",
   "execution_count": 14,
   "metadata": {},
   "outputs": [],
   "source": [
    "def convert(lang: str, TRAINING_DATA, output_path: Path):\n",
    "    nlp = spacy.blank(lang)\n",
    "    db = DocBin()\n",
    "    for text, annot in TRAINING_DATA:\n",
    "        doc = nlp.make_doc(text)\n",
    "        ents = []\n",
    "        for start, end, label in annot[\"entities\"]:\n",
    "            span = doc.char_span(start, end, label=label)\n",
    "            if span is None:\n",
    "                msg = f\"Skipping entity [{start}, {end}, {label}] in the following text because the character span '{doc.text[start:end]}' does not align with token boundaries:\\n\\n{repr(text)}\\n\"\n",
    "                warnings.warn(msg)\n",
    "            else:\n",
    "                ents.append(span)\n",
    "        doc.ents = ents\n",
    "        db.add(doc)\n",
    "    db.to_disk(output_path)"
   ]
  },
  {
   "cell_type": "code",
   "execution_count": 15,
   "metadata": {},
   "outputs": [],
   "source": [
    "# convert(\"en\", TRAINING_DATA, \"/Users/gopinath.balu/Downloads/text_extraction/data/eng_transformers/train.spacy\")\n",
    "convert(\"en\", TRAINING_DATA, \"/home/admin/gopi/Workspace/text_extraction/data/eng_transformers/train.spacy\")\n"
   ]
  },
  {
   "cell_type": "code",
   "execution_count": 16,
   "metadata": {},
   "outputs": [
    {
     "name": "stdout",
     "output_type": "stream",
     "text": [
      "Loaded model 'en_core_web_trf'\n"
     ]
    }
   ],
   "source": [
    "model = 'en_core_web_trf'\n",
    "optimizer = SGD(learn_rate=0.001, L2=1e-6, grad_clip=1.0)\n",
    "losses = {}\n",
    "\n",
    "if model is not None:\n",
    "    nlp = spacy.load(model)  \n",
    "    print(\"Loaded model '%s'\" % model)\n",
    "else:\n",
    "    nlp = spacy.blank('en')  \n",
    "    print(\"Created blank 'EN' model\")\n",
    "\n",
    "if 'ner' not in nlp.pipe_names:\n",
    "    ner = nlp.add_pipe(\"ner\")\n",
    "    ner.add_label(\"O\")\n",
    "else:\n",
    "    ner = nlp.get_pipe('ner')"
   ]
  },
  {
   "cell_type": "code",
   "execution_count": 17,
   "metadata": {},
   "outputs": [
    {
     "name": "stdout",
     "output_type": "stream",
     "text": [
      "Losses {'transformer': 55.56880569458008, 'tagger': 0.0, 'parser': 0.0, 'ner': 57.479191207735695}\n",
      "Losses {'transformer': 126.95695877075195, 'tagger': 0.0, 'parser': 0.0, 'ner': 115.71302153986737}\n",
      "Losses {'transformer': 181.65108108520508, 'tagger': 0.0, 'parser': 0.0, 'ner': 171.19129537672302}\n",
      "Losses {'transformer': 235.18187713623047, 'tagger': 0.0, 'parser': 0.0, 'ner': 231.06865019370662}\n",
      "Losses {'transformer': 293.7792205810547, 'tagger': 0.0, 'parser': 0.0, 'ner': 293.1468609919517}\n",
      "Losses {'transformer': 364.9523391723633, 'tagger': 0.0, 'parser': 0.0, 'ner': 354.62503517114}\n",
      "Losses {'transformer': 420.96299743652344, 'tagger': 0.0, 'parser': 0.0, 'ner': 416.7667664251854}\n",
      "Losses {'transformer': 492.12378692626953, 'tagger': 0.0, 'parser': 0.0, 'ner': 480.0193522707164}\n",
      "Losses {'transformer': 547.3672828674316, 'tagger': 0.0, 'parser': 0.0, 'ner': 536.4043569015064}\n",
      "Losses {'transformer': 603.3565216064453, 'tagger': 0.0, 'parser': 0.0, 'ner': 597.228408682121}\n",
      "Losses {'transformer': 667.9133224487305, 'tagger': 0.0, 'parser': 0.0, 'ner': 658.9880011081586}\n",
      "Losses {'transformer': 730.3997344970703, 'tagger': 0.0, 'parser': 0.0, 'ner': 720.0597055547959}\n",
      "Losses {'transformer': 802.3976593017578, 'tagger': 0.0, 'parser': 0.0, 'ner': 782.0248701756802}\n",
      "Losses {'transformer': 855.5517311096191, 'tagger': 0.0, 'parser': 0.0, 'ner': 840.4358808236843}\n",
      "Losses {'transformer': 914.1330871582031, 'tagger': 0.0, 'parser': 0.0, 'ner': 899.9093844035874}\n",
      "Losses {'transformer': 966.6695175170898, 'tagger': 0.0, 'parser': 0.0, 'ner': 958.6289206981476}\n",
      "Losses {'transformer': 1042.8779067993164, 'tagger': 0.0, 'parser': 0.0, 'ner': 1020.0483927260111}\n",
      "Losses {'transformer': 1126.841697692871, 'tagger': 0.0, 'parser': 0.0, 'ner': 1085.8027329509152}\n",
      "Losses {'transformer': 6293.828025817871, 'tagger': 0.0, 'parser': 0.0, 'ner': 1223.9910048106553}\n",
      "Losses {'transformer': 6350.123931884766, 'tagger': 0.0, 'parser': 0.0, 'ner': 1283.569975799002}\n",
      "Losses {'transformer': 6441.722969055176, 'tagger': 0.0, 'parser': 0.0, 'ner': 1345.1169859007823}\n",
      "Losses {'transformer': 6489.789470672607, 'tagger': 0.0, 'parser': 0.0, 'ner': 1399.3995643033452}\n",
      "Losses {'transformer': 6547.575870513916, 'tagger': 0.0, 'parser': 0.0, 'ner': 1457.3331972065832}\n",
      "Losses {'transformer': 6608.946578979492, 'tagger': 0.0, 'parser': 0.0, 'ner': 1516.5526303326428}\n",
      "Losses {'transformer': 6668.308258056641, 'tagger': 0.0, 'parser': 0.0, 'ner': 1577.3153201578866}\n",
      "Losses {'transformer': 6724.6008949279785, 'tagger': 0.0, 'parser': 0.0, 'ner': 1636.0549840215951}\n",
      "Losses {'transformer': 6785.857795715332, 'tagger': 0.0, 'parser': 0.0, 'ner': 1696.307086853051}\n",
      "Losses {'transformer': 6833.631637573242, 'tagger': 0.0, 'parser': 0.0, 'ner': 1753.743807229709}\n",
      "Losses {'transformer': 6892.054893493652, 'tagger': 0.0, 'parser': 0.0, 'ner': 1811.7344989666053}\n",
      "Losses {'transformer': 6942.959243774414, 'tagger': 0.0, 'parser': 0.0, 'ner': 1872.6157593883765}\n",
      "Losses {'transformer': 6996.746631622314, 'tagger': 0.0, 'parser': 0.0, 'ner': 1926.9553986105159}\n",
      "Losses {'transformer': 7051.584392547607, 'tagger': 0.0, 'parser': 0.0, 'ner': 1983.6125084989387}\n",
      "Losses {'transformer': 7107.014209747314, 'tagger': 0.0, 'parser': 0.0, 'ner': 2046.5706953934164}\n",
      "Losses {'transformer': 7153.649761199951, 'tagger': 0.0, 'parser': 0.0, 'ner': 2101.6539996387646}\n",
      "Losses {'transformer': 7217.585609436035, 'tagger': 0.0, 'parser': 0.0, 'ner': 2160.7336335954105}\n",
      "Losses {'transformer': 7273.8895835876465, 'tagger': 0.0, 'parser': 0.0, 'ner': 2218.288527380306}\n",
      "Losses {'transformer': 7364.36771774292, 'tagger': 0.0, 'parser': 0.0, 'ner': 2279.6049580732133}\n",
      "Losses {'transformer': 7438.431491851807, 'tagger': 0.0, 'parser': 0.0, 'ner': 2338.033630033501}\n",
      "Losses {'transformer': 7497.874176025391, 'tagger': 0.0, 'parser': 0.0, 'ner': 2399.811461595911}\n",
      "Losses {'transformer': 7551.397102355957, 'tagger': 0.0, 'parser': 0.0, 'ner': 2455.537990239478}\n",
      "Losses {'transformer': 7637.99299621582, 'tagger': 0.0, 'parser': 0.0, 'ner': 2519.8372991867154}\n",
      "Losses {'transformer': 43859.11408996582, 'tagger': 0.0, 'parser': 0.0, 'ner': 2713.6542619652837}\n",
      "Losses {'transformer': 43918.78532409668, 'tagger': 0.0, 'parser': 0.0, 'ner': 2774.4485565009704}\n",
      "Losses {'transformer': 43972.603858947754, 'tagger': 0.0, 'parser': 0.0, 'ner': 2831.992146597827}\n",
      "Losses {'transformer': 44030.091495513916, 'tagger': 0.0, 'parser': 0.0, 'ner': 2892.9563551589354}\n",
      "Losses {'transformer': 44097.53754043579, 'tagger': 0.0, 'parser': 0.0, 'ner': 2953.309154192936}\n",
      "Losses {'transformer': 44172.545612335205, 'tagger': 0.0, 'parser': 0.0, 'ner': 3015.23924768225}\n",
      "Losses {'transformer': 44246.332317352295, 'tagger': 0.0, 'parser': 0.0, 'ner': 3076.5426505069895}\n",
      "Losses {'transformer': 44305.41342163086, 'tagger': 0.0, 'parser': 0.0, 'ner': 3135.164338320742}\n",
      "Losses {'transformer': 44357.114208221436, 'tagger': 0.0, 'parser': 0.0, 'ner': 3192.0649968267053}\n"
     ]
    }
   ],
   "source": [
    "from spacy.training.example import Example\n",
    "\n",
    "for batch in spacy.util.minibatch(TRAINING_DATA, size=2):\n",
    "    for text, annotations in batch:\n",
    "        doc = nlp.make_doc(text)\n",
    "        example = Example.from_dict(doc, annotations)\n",
    "        # nlp.update([example], sgd=optimizer, losses=losses, drop=0.3)\n",
    "        nlp.update([example], losses=losses, drop=0.3)\n",
    "        print(\"Losses\", losses)\n",
    "\n",
    "nlp.to_disk('/home/admin/gopi/Workspace/text_extraction/output/eng_transformers')"
   ]
  },
  {
   "cell_type": "code",
   "execution_count": 18,
   "metadata": {},
   "outputs": [
    {
     "name": "stdout",
     "output_type": "stream",
     "text": [
      "Entities [('170 9090', 'CARDINAL'), ('Melle - Belgium', 'ORG'), ('02/05/ 2022', 'DATE'), ('Ronse Billing', 'PERSON'), ('14 1400', 'CARDINAL'), ('60 days', 'DATE'), ('Leuze-en-Hainaut', 'ORG'), ('250€ POS', 'MONEY'), ('six', 'CARDINAL'), ('924734', 'CARDINAL'), ('200 Pce', 'QUANTITY'), ('2,000 Pce', 'QUANTITY'), ('2,400 Pce', 'QUANTITY'), ('2,400', 'CARDINAL'), ('49.97 €', 'MONEY'), ('1,000', 'CARDINAL'), ('1,000', 'CARDINAL'), ('20', 'MONEY'), ('six', 'CARDINAL'), ('929735', 'CARDINAL'), ('200', 'CARDINAL'), ('2,400', 'CARDINAL'), ('2,400', 'CARDINAL'), ('28.63', 'MONEY'), ('1,000', 'CARDINAL'), ('28.63', 'MONEY'), ('1,000', 'CARDINAL'), ('68.71', 'MONEY'), ('188.64', 'MONEY'), ('-€2.40', 'MONEY'), ('186.24', 'MONEY'), ('21%', 'PERCENT'), ('39.11', 'MONEY'), ('225.35', 'MONEY'), ('27,600 KG', 'QUANTITY'), ('301437', 'CARDINAL'), ('02/05/2022 2 / 2', 'DATE'), ('Sofie Van Dorpe', 'PERSON'), ('Chrome VI', 'PRODUCT'), ('RoHS', 'LAW'), ('directive 2011/65', 'LAW')]\n"
     ]
    }
   ],
   "source": [
    "doc = nlp(actual_content_eng)\n",
    "print(\"Entities\", [(ent.text, ent.label_) for ent in doc.ents])"
   ]
  },
  {
   "cell_type": "code",
   "execution_count": null,
   "metadata": {},
   "outputs": [],
   "source": []
  }
 ],
 "metadata": {
  "interpreter": {
   "hash": "a3bdab6f35d6e2d330246078e157c8a60d05073498af0570789dd7e947495cc0"
  },
  "kernelspec": {
   "display_name": "dlarith",
   "language": "python",
   "name": "dlarith"
  },
  "language_info": {
   "codemirror_mode": {
    "name": "ipython",
    "version": 3
   },
   "file_extension": ".py",
   "mimetype": "text/x-python",
   "name": "python",
   "nbconvert_exporter": "python",
   "pygments_lexer": "ipython3",
   "version": "3.9.6"
  }
 },
 "nbformat": 4,
 "nbformat_minor": 4
}
