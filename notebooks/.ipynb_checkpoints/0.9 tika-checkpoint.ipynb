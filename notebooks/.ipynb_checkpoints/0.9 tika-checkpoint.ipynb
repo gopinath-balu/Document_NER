{
 "cells": [
  {
   "cell_type": "code",
   "execution_count": 3,
   "metadata": {},
   "outputs": [],
   "source": [
    "pdf_file = '/home/admin/gopi/Workspace/text_extraction/data/Use_caes_NLP.pdf'"
   ]
  },
  {
   "cell_type": "code",
   "execution_count": 1,
   "metadata": {},
   "outputs": [],
   "source": [
    "from tika import parser"
   ]
  },
  {
   "cell_type": "code",
   "execution_count": 4,
   "metadata": {},
   "outputs": [],
   "source": [
    "raw = parser.from_file(pdf_file)\n",
    "content = raw['content']"
   ]
  },
  {
   "cell_type": "code",
   "execution_count": 5,
   "metadata": {},
   "outputs": [],
   "source": [
    "remove_newline = lambda x: x.replace('\\n', ' ').strip()"
   ]
  },
  {
   "cell_type": "code",
   "execution_count": 6,
   "metadata": {},
   "outputs": [],
   "source": [
    "actual_content = remove_newline(content)"
   ]
  },
  {
   "cell_type": "code",
   "execution_count": 7,
   "metadata": {},
   "outputs": [
    {
     "data": {
      "text/plain": [
       "\"Numéro de TVA : BE 0425.888.396 RPR GENT KBC IBAN BE50 4459 6389 4118 BIC KREDBEBB  ING IBAN BE98 3900 3232 4293 BIC BBRUBEBB  BNP IBAN BE78 2900 1606 0086 BIC GEBABEBB  BEL IBAN BE30 5645 1378 2011 BIC GKCCBEBB 1 / 2  pgb-Europe nv  Gontrode Heirweg 170  9090 Melle - Belgium    Tél. +32 (0)9 272 70 70  info@pgb-europe.com  Fax +32 (0)9 272 70 99  www.pgb-europe.com  Société Certifiée ISO 9001  CONFIRMATION D'ORDRE - 301437  Date du document 02/05/2022 Numéro de client 1000293 Numéro de TVA client BE0415809702 Votre réf. 13639 E-mail florine.fernez@plasticentre.b  e Tél. 069532060  Plasticentre sa  Lid Menouquin :115  /PLH   Chée de Russeignies 11  9600 Renaix  Adresse de facturation Menouquin sv Pro  Groep Meno0  Vieux Chemin de Thines 14  1400 Nivelles  Adresse de livraison Plasticentre  003147999  Rue De L'Artisanat 11  7900 Leuze-en-Hainaut  Vous pourrez trouver nos conditions générales de vente et de livraison sur ce  document ou via le lien suivant :   https://www.pgb-europe.com/fr-fr/legal/terms-and-conditions  Conditions de paiement Dû en 60 jours Conditions de livraison CPT (Port payé) Leuze-en-Hainaut Valeur d'envoi franco 250€     POS. DESCRIPTION QUANTITE   COMMANDEE QUANTITE   CONFIRMEE PRIX /  UNITE  NET /  UNITE  MONTANT  NET  10  PFWVTG001005000803 / PWVTGG50080 Z (*) Vis à panneaux PFS+ TF-T * 5,00x80 Zn (T25)  double tête plate six lobes int. avec nervures  filet partiel - pointe coupante T17  emballage standard Art. client: 924734 QTE: 200 Pce  Demandé: 2.000 Pce Arrondi:  2.400 Pce  Stock: 2.400 Pce  49,97 €  / 1.000   Pce  -2 %  48,97 €  / 1.000   Pce  117,53 €  20  PFWVTV001004500603 / PWVTVK45060 Z (*) Vis à panneaux PFS+ TF-T * 4,50x60 Zn (T20)  double tête plate six lobes int. avec nervures  filet total - pointe coupante T17  emballage petit Art. client: 929735 QTE: 200 Pce  2.400 Pce Stock: 2.400 Pce  28,63 €  / 1.000   Pce   28,63 €  / 1.000   Pce  68,71 €  Sous Total 188,64 €  Remise cumulée -2,40 €  Montant net 186,24 €  TVA (21%) 39,11 €  Montant total 225,35 €  Poids brut 27,600 KG        CONFIRMATION D'ORDRE - 301437  Date de document 02/05/2022  2 / 2  Nous restons à votre disposition pour tout renseignement complémentaire.  Sofie Van Dorpe Sales sofie.van.dorpe@pgb-europe.com +32 92727072  (*) Sans Chrome VI conformément à la directive RoHS (directive 2011/65 /UE).\""
      ]
     },
     "execution_count": 7,
     "metadata": {},
     "output_type": "execute_result"
    }
   ],
   "source": [
    "actual_content"
   ]
  },
  {
   "cell_type": "code",
   "execution_count": null,
   "metadata": {},
   "outputs": [],
   "source": []
  }
 ],
 "metadata": {
  "interpreter": {
   "hash": "a3bdab6f35d6e2d330246078e157c8a60d05073498af0570789dd7e947495cc0"
  },
  "kernelspec": {
   "display_name": "dlarith",
   "language": "python",
   "name": "dlarith"
  },
  "language_info": {
   "codemirror_mode": {
    "name": "ipython",
    "version": 3
   },
   "file_extension": ".py",
   "mimetype": "text/x-python",
   "name": "python",
   "nbconvert_exporter": "python",
   "pygments_lexer": "ipython3",
   "version": "3.9.6"
  }
 },
 "nbformat": 4,
 "nbformat_minor": 4
}
