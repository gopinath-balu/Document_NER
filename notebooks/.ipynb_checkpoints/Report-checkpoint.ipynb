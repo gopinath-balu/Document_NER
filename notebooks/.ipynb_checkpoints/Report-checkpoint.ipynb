{
 "cells": [
  {
   "cell_type": "markdown",
   "metadata": {},
   "source": [
    "# NLP based text entity extraction - French "
   ]
  },
  {
   "cell_type": "markdown",
   "metadata": {},
   "source": [
    "### Input "
   ]
  },
  {
   "cell_type": "code",
   "execution_count": 1,
   "metadata": {},
   "outputs": [],
   "source": [
    "import os\n",
    "import utils\n",
    "import spacy\n",
    "from spacy import displacy\n",
    "import pandas as pd\n",
    "import numpy as np"
   ]
  },
  {
   "cell_type": "code",
   "execution_count": 2,
   "metadata": {},
   "outputs": [
    {
     "data": {
      "text/html": [
       "<iframe src=assets/Use_caes_NLP.pdf width=600 height=500></iframe>"
      ],
      "text/latex": [
       "\\includegraphics[width=1.0\\textwidth]{assets/Use_caes_NLP.pdf}"
      ],
      "text/plain": [
       "<utils.PDF at 0x7f24b477dd90>"
      ]
     },
     "execution_count": 2,
     "metadata": {},
     "output_type": "execute_result"
    }
   ],
   "source": [
    "utils.PDF('assets/Use_caes_NLP.pdf',size=(600,500))"
   ]
  },
  {
   "cell_type": "markdown",
   "metadata": {},
   "source": [
    "### Things need to be Expected output to be extracted"
   ]
  },
  {
   "cell_type": "code",
   "execution_count": 3,
   "metadata": {},
   "outputs": [
    {
     "data": {
      "text/html": [
       "<iframe src=assets/output.pdf width=600 height=500></iframe>"
      ],
      "text/latex": [
       "\\includegraphics[width=1.0\\textwidth]{assets/output.pdf}"
      ],
      "text/plain": [
       "<utils.PDF at 0x7f24b477dfa0>"
      ]
     },
     "execution_count": 3,
     "metadata": {},
     "output_type": "execute_result"
    }
   ],
   "source": [
    "utils.PDF('assets/output.pdf',size=(600,500))"
   ]
  },
  {
   "cell_type": "markdown",
   "metadata": {},
   "source": [
    "# My Solution"
   ]
  },
  {
   "cell_type": "markdown",
   "metadata": {},
   "source": [
    "## The simple solution involves training the Custom NER Spacy model ***fr_core_news_md*** French language model.\n",
    "\n",
    "    - Augmentation has to be used anyway so I augmented the given input data like this.\n",
    "\n",
    "##### So the actual inputs would look like this, augmented input goes into those {xxxxxx} and {xxxx / 0.000} tags.\n",
    "\n",
    "<br>"
   ]
  },
  {
   "cell_type": "code",
   "execution_count": 5,
   "metadata": {},
   "outputs": [
    {
     "name": "stdout",
     "output_type": "stream",
     "text": [
      "POS. DESCRIPTION QUANTITE   COMMANDEE QUANTITE   CONFIRMEE PRIX /  UNITE  NET /  UNITE  MONTANT  NET  10  PFWVTG001005000803 / PWVTGG50080 Z (*) Vis à panneaux PFS+ TF-T * 5,00x80 Zn (T25)  double tête plate six lobes int. avec nervures  filet partiel - pointe coupante T17  emballage standard Art. client: {xxxxxx} QTE: 200 Pce  Demandé: 2.000 Pce Arrondi:  2.400 Pce  Stock: 2.400 Pce  {xxxx / 0.000} Pce  -2 %  {xxxx / 0.000}   Pce  117,53   20  PFWVTV001004500603 / PWVTVK45060 Z (*) Vis à panneaux PFS+ TF-T * 4,50x60 Zn (T20)  double tête plate six lobes int. avec nervures  filet total - pointe coupante T17  emballage petit Art. client: {xxxxxx} QTE: 200 Pce  2.400 Pce Stock: 2.400 Pce  {xxxx / 0.000} Pce {xxxx / 0.000}  68,71   Sous Total 188,64   Remise cumulée -2,40   Montant net 186,24   TVA (21%) 39,11   Montant total 225,35  Poids brut 27,600 KG\n"
     ]
    }
   ],
   "source": [
    "utils.load_text('assets/input_augment.txt', print_=True)"
   ]
  },
  {
   "cell_type": "markdown",
   "metadata": {},
   "source": [
    "<br>\n",
    "\n",
    "##### Training the model with 100 augmented samples and for an epoch this is the output."
   ]
  },
  {
   "cell_type": "code",
   "execution_count": 4,
   "metadata": {},
   "outputs": [
    {
     "name": "stdout",
     "output_type": "stream",
     "text": [
      "\n",
      "Loaded ('fr', 'core_news_md') model \n",
      "\n"
     ]
    },
    {
     "data": {
      "text/html": [
       "<span class=\"tex2jax_ignore\"><div class=\"entities\" style=\"line-height: 2.5; direction: ltr\">POS. DESCRIPTION QUANTITE   COMMANDEE QUANTITE   CONFIRMEE PRIX /  UNITE  NET /  UNITE  MONTANT  NET  10  PFWVTG001005000803 / PWVTGG50080 Z (*) Vis à panneaux PFS+ TF-T * 5,00x80 Zn (T25)  double tête plate six lobes int. avec nervures  filet partiel - pointe coupante T17  emballage standard Art. client: \n",
       "<mark class=\"entity\" style=\"background: linear-gradient(90deg, #aa9cfc, #fc9ce7); padding: 0.45em 0.6em; margin: 0 0.25em; line-height: 1; border-radius: 0.35em;\">\n",
       "    924734\n",
       "    <span style=\"font-size: 0.8em; font-weight: bold; line-height: 1; border-radius: 0.35em; vertical-align: middle; margin-left: 0.5rem\">Art ID</span>\n",
       "</mark>\n",
       " QTE: 200 Pce  Demandé: 2.000 Pce Arrondi:  2.400 Pce  Stock: 2.400 Pce  \n",
       "<mark class=\"entity\" style=\"background: linear-gradient(90deg, #b58ecc, #5de6de); padding: 0.45em 0.6em; margin: 0 0.25em; line-height: 1; border-radius: 0.35em;\">\n",
       "    49,97 / 1.000\n",
       "    <span style=\"font-size: 0.8em; font-weight: bold; line-height: 1; border-radius: 0.35em; vertical-align: middle; margin-left: 0.5rem\">Price per Unit</span>\n",
       "</mark>\n",
       "   Pce  -2 %  \n",
       "<mark class=\"entity\" style=\"background: linear-gradient(90deg, #b58ecc, #5de6de); padding: 0.45em 0.6em; margin: 0 0.25em; line-height: 1; border-radius: 0.35em;\">\n",
       "    48,97 / 1.000\n",
       "    <span style=\"font-size: 0.8em; font-weight: bold; line-height: 1; border-radius: 0.35em; vertical-align: middle; margin-left: 0.5rem\">Price per Unit</span>\n",
       "</mark>\n",
       "   Pce  117,53   20  PFWVTV001004500603 / PWVTVK45060 Z (*) Vis à panneaux PFS+ TF-T * 4,50x60 Zn (T20)  double tête plate six lobes int. avec nervures  filet total - pointe coupante T17  emballage petit Art. client: \n",
       "<mark class=\"entity\" style=\"background: linear-gradient(90deg, #aa9cfc, #fc9ce7); padding: 0.45em 0.6em; margin: 0 0.25em; line-height: 1; border-radius: 0.35em;\">\n",
       "    929735\n",
       "    <span style=\"font-size: 0.8em; font-weight: bold; line-height: 1; border-radius: 0.35em; vertical-align: middle; margin-left: 0.5rem\">Art ID</span>\n",
       "</mark>\n",
       " QTE: 200 Pce  2.400 Pce Stock: 2.400 Pce  \n",
       "<mark class=\"entity\" style=\"background: linear-gradient(90deg, #b58ecc, #5de6de); padding: 0.45em 0.6em; margin: 0 0.25em; line-height: 1; border-radius: 0.35em;\">\n",
       "    28,63 / 1.000\n",
       "    <span style=\"font-size: 0.8em; font-weight: bold; line-height: 1; border-radius: 0.35em; vertical-align: middle; margin-left: 0.5rem\">Price per Unit</span>\n",
       "</mark>\n",
       " Pce \n",
       "<mark class=\"entity\" style=\"background: linear-gradient(90deg, #b58ecc, #5de6de); padding: 0.45em 0.6em; margin: 0 0.25em; line-height: 1; border-radius: 0.35em;\">\n",
       "    28,63 / 1.000\n",
       "    <span style=\"font-size: 0.8em; font-weight: bold; line-height: 1; border-radius: 0.35em; vertical-align: middle; margin-left: 0.5rem\">Price per Unit</span>\n",
       "</mark>\n",
       " Pce  68,71   Sous Total 188,64   Remise cumulée -2,40   Montant net 186,24   TVA (21%) 39,11   Montant total 225,35  Poids brut 27,600 KG</div></span>"
      ],
      "text/plain": [
       "<IPython.core.display.HTML object>"
      ]
     },
     "metadata": {},
     "output_type": "display_data"
    }
   ],
   "source": [
    "test_input = utils.load_text('assets/test_input.txt')\n",
    "french_model = utils.load_model('fr_model2')\n",
    "output = utils.inference(french_model, test_input)"
   ]
  },
  {
   "cell_type": "markdown",
   "metadata": {},
   "source": [
    "<br><br><br><br><br><br><br><br><br><br>"
   ]
  },
  {
   "cell_type": "markdown",
   "metadata": {
    "tags": []
   },
   "source": [
    "# Approaches"
   ]
  },
  {
   "cell_type": "markdown",
   "metadata": {},
   "source": [
    "#### Below are NLP approaches to the extract the menioned information from the above given document. \n",
    "\n",
    "## 1. Camelot\n",
    "    - Even before wanting to go ahead with NLP, I tried a simple CV based approach using Camelot which internally leverage OpenCV."
   ]
  },
  {
   "cell_type": "markdown",
   "metadata": {},
   "source": [
    "##### But as expected results weren't promising."
   ]
  },
  {
   "cell_type": "code",
   "execution_count": 25,
   "metadata": {},
   "outputs": [
    {
     "data": {
      "text/html": [
       "<div>\n",
       "<style scoped>\n",
       "    .dataframe tbody tr th:only-of-type {\n",
       "        vertical-align: middle;\n",
       "    }\n",
       "\n",
       "    .dataframe tbody tr th {\n",
       "        vertical-align: top;\n",
       "    }\n",
       "\n",
       "    .dataframe thead th {\n",
       "        text-align: right;\n",
       "    }\n",
       "</style>\n",
       "<table border=\"1\" class=\"dataframe\">\n",
       "  <thead>\n",
       "    <tr style=\"text-align: right;\">\n",
       "      <th></th>\n",
       "      <th>0</th>\n",
       "      <th>1</th>\n",
       "    </tr>\n",
       "  </thead>\n",
       "  <tbody>\n",
       "    <tr>\n",
       "      <th>0</th>\n",
       "      <td>Tél. +32 (0)9 272 70 70 \\n \\ninfo@pgb-europe.com</td>\n",
       "      <td></td>\n",
       "    </tr>\n",
       "    <tr>\n",
       "      <th>1</th>\n",
       "      <td>Fax +32 (0)9 272 70 99 \\n \\nwww.pgb-europe.com</td>\n",
       "      <td>Société Certifiée ISO 9001</td>\n",
       "    </tr>\n",
       "    <tr>\n",
       "      <th>2</th>\n",
       "      <td>CONFIRMATION D'ORDRE - 301437</td>\n",
       "      <td></td>\n",
       "    </tr>\n",
       "    <tr>\n",
       "      <th>3</th>\n",
       "      <td></td>\n",
       "      <td>Plasticentre sa</td>\n",
       "    </tr>\n",
       "    <tr>\n",
       "      <th>4</th>\n",
       "      <td>Date du document\\n02/05/2022</td>\n",
       "      <td></td>\n",
       "    </tr>\n",
       "    <tr>\n",
       "      <th>5</th>\n",
       "      <td></td>\n",
       "      <td>Lid Menouquin :115  /PLH</td>\n",
       "    </tr>\n",
       "    <tr>\n",
       "      <th>6</th>\n",
       "      <td>Numéro de client\\n1000293</td>\n",
       "      <td></td>\n",
       "    </tr>\n",
       "    <tr>\n",
       "      <th>7</th>\n",
       "      <td></td>\n",
       "      <td>Chée de Russeignies 11</td>\n",
       "    </tr>\n",
       "    <tr>\n",
       "      <th>8</th>\n",
       "      <td>Numéro de TVA client\\nBE0415809702</td>\n",
       "      <td></td>\n",
       "    </tr>\n",
       "    <tr>\n",
       "      <th>9</th>\n",
       "      <td></td>\n",
       "      <td>9600 Renaix</td>\n",
       "    </tr>\n",
       "    <tr>\n",
       "      <th>10</th>\n",
       "      <td>Votre réf.\\n13639</td>\n",
       "      <td></td>\n",
       "    </tr>\n",
       "    <tr>\n",
       "      <th>11</th>\n",
       "      <td>E-mail\\nflorine.fernez@plasticentre.b</td>\n",
       "      <td></td>\n",
       "    </tr>\n",
       "    <tr>\n",
       "      <th>12</th>\n",
       "      <td>e</td>\n",
       "      <td></td>\n",
       "    </tr>\n",
       "    <tr>\n",
       "      <th>13</th>\n",
       "      <td>Tél.\\n069532060</td>\n",
       "      <td></td>\n",
       "    </tr>\n",
       "    <tr>\n",
       "      <th>14</th>\n",
       "      <td>Adresse de facturation\\nAdresse de livraison</td>\n",
       "      <td>Vous pourrez trouver nos conditions générales ...</td>\n",
       "    </tr>\n",
       "    <tr>\n",
       "      <th>15</th>\n",
       "      <td>Menouquin sv Pro \\nPlasticentre</td>\n",
       "      <td>document ou via le lien suivant :</td>\n",
       "    </tr>\n",
       "    <tr>\n",
       "      <th>16</th>\n",
       "      <td></td>\n",
       "      <td>https://www.pgb-europe.com/fr-fr/legal/terms-a...</td>\n",
       "    </tr>\n",
       "    <tr>\n",
       "      <th>17</th>\n",
       "      <td>Groep Meno0 \\n003147999</td>\n",
       "      <td></td>\n",
       "    </tr>\n",
       "    <tr>\n",
       "      <th>18</th>\n",
       "      <td>Vieux Chemin de Thines 14 \\nRue De L'Artisanat 11</td>\n",
       "      <td></td>\n",
       "    </tr>\n",
       "    <tr>\n",
       "      <th>19</th>\n",
       "      <td>1400 Nivelles\\n7900 Leuze-en-Hainaut</td>\n",
       "      <td></td>\n",
       "    </tr>\n",
       "    <tr>\n",
       "      <th>20</th>\n",
       "      <td>Conditions de paiement\\nDû en 60 jours</td>\n",
       "      <td></td>\n",
       "    </tr>\n",
       "    <tr>\n",
       "      <th>21</th>\n",
       "      <td>Conditions de livraison\\nCPT (Port payé) Leuze...</td>\n",
       "      <td></td>\n",
       "    </tr>\n",
       "    <tr>\n",
       "      <th>22</th>\n",
       "      <td>Valeur d'envoi franco\\n250€</td>\n",
       "      <td></td>\n",
       "    </tr>\n",
       "  </tbody>\n",
       "</table>\n",
       "</div>"
      ],
      "text/plain": [
       "                                                    0  \\\n",
       "0    Tél. +32 (0)9 272 70 70 \\n \\ninfo@pgb-europe.com   \n",
       "1      Fax +32 (0)9 272 70 99 \\n \\nwww.pgb-europe.com   \n",
       "2                       CONFIRMATION D'ORDRE - 301437   \n",
       "3                                                       \n",
       "4                        Date du document\\n02/05/2022   \n",
       "5                                                       \n",
       "6                           Numéro de client\\n1000293   \n",
       "7                                                       \n",
       "8                  Numéro de TVA client\\nBE0415809702   \n",
       "9                                                       \n",
       "10                                  Votre réf.\\n13639   \n",
       "11              E-mail\\nflorine.fernez@plasticentre.b   \n",
       "12                                                  e   \n",
       "13                                    Tél.\\n069532060   \n",
       "14       Adresse de facturation\\nAdresse de livraison   \n",
       "15                    Menouquin sv Pro \\nPlasticentre   \n",
       "16                                                      \n",
       "17                            Groep Meno0 \\n003147999   \n",
       "18  Vieux Chemin de Thines 14 \\nRue De L'Artisanat 11   \n",
       "19               1400 Nivelles\\n7900 Leuze-en-Hainaut   \n",
       "20             Conditions de paiement\\nDû en 60 jours   \n",
       "21  Conditions de livraison\\nCPT (Port payé) Leuze...   \n",
       "22                        Valeur d'envoi franco\\n250€   \n",
       "\n",
       "                                                    1  \n",
       "0                                                      \n",
       "1                          Société Certifiée ISO 9001  \n",
       "2                                                      \n",
       "3                                     Plasticentre sa  \n",
       "4                                                      \n",
       "5                            Lid Menouquin :115  /PLH  \n",
       "6                                                      \n",
       "7                              Chée de Russeignies 11  \n",
       "8                                                      \n",
       "9                                         9600 Renaix  \n",
       "10                                                     \n",
       "11                                                     \n",
       "12                                                     \n",
       "13                                                     \n",
       "14  Vous pourrez trouver nos conditions générales ...  \n",
       "15                  document ou via le lien suivant :  \n",
       "16  https://www.pgb-europe.com/fr-fr/legal/terms-a...  \n",
       "17                                                     \n",
       "18                                                     \n",
       "19                                                     \n",
       "20                                                     \n",
       "21                                                     \n",
       "22                                                     "
      ]
     },
     "execution_count": 25,
     "metadata": {},
     "output_type": "execute_result"
    }
   ],
   "source": [
    "# for as is extraction\n",
    "df0 = pd.read_parquet('assets/camelot_plain-0.parquet', engine='fastparquet')\n",
    "df0"
   ]
  },
  {
   "cell_type": "code",
   "execution_count": 26,
   "metadata": {},
   "outputs": [
    {
     "data": {
      "text/html": [
       "<div>\n",
       "<style scoped>\n",
       "    .dataframe tbody tr th:only-of-type {\n",
       "        vertical-align: middle;\n",
       "    }\n",
       "\n",
       "    .dataframe tbody tr th {\n",
       "        vertical-align: top;\n",
       "    }\n",
       "\n",
       "    .dataframe thead th {\n",
       "        text-align: right;\n",
       "    }\n",
       "</style>\n",
       "<table border=\"1\" class=\"dataframe\">\n",
       "  <thead>\n",
       "    <tr style=\"text-align: right;\">\n",
       "      <th></th>\n",
       "      <th>0</th>\n",
       "      <th>1</th>\n",
       "      <th>2</th>\n",
       "      <th>3</th>\n",
       "      <th>4</th>\n",
       "      <th>5</th>\n",
       "      <th>6</th>\n",
       "      <th>7</th>\n",
       "    </tr>\n",
       "  </thead>\n",
       "  <tbody>\n",
       "    <tr>\n",
       "      <th>0</th>\n",
       "      <td></td>\n",
       "      <td></td>\n",
       "      <td>QUANTITE</td>\n",
       "      <td>QUANTITE</td>\n",
       "      <td>PRIX /</td>\n",
       "      <td></td>\n",
       "      <td>NET /</td>\n",
       "      <td>MONTANT</td>\n",
       "    </tr>\n",
       "    <tr>\n",
       "      <th>1</th>\n",
       "      <td>POS.</td>\n",
       "      <td>DESCRIPTION</td>\n",
       "      <td></td>\n",
       "      <td></td>\n",
       "      <td></td>\n",
       "      <td></td>\n",
       "      <td></td>\n",
       "      <td></td>\n",
       "    </tr>\n",
       "    <tr>\n",
       "      <th>2</th>\n",
       "      <td></td>\n",
       "      <td></td>\n",
       "      <td>COMMANDEE</td>\n",
       "      <td>CONFIRMEE</td>\n",
       "      <td>UNITE</td>\n",
       "      <td></td>\n",
       "      <td>UNITE</td>\n",
       "      <td>NET</td>\n",
       "    </tr>\n",
       "    <tr>\n",
       "      <th>3</th>\n",
       "      <td></td>\n",
       "      <td>PFWVTG001005000803 / PWVTGG50080 Z (*)</td>\n",
       "      <td></td>\n",
       "      <td></td>\n",
       "      <td></td>\n",
       "      <td></td>\n",
       "      <td></td>\n",
       "      <td></td>\n",
       "    </tr>\n",
       "    <tr>\n",
       "      <th>4</th>\n",
       "      <td></td>\n",
       "      <td>Vis à panneaux PFS+ TF-T * 5,00x80 Zn (T25)</td>\n",
       "      <td></td>\n",
       "      <td></td>\n",
       "      <td></td>\n",
       "      <td></td>\n",
       "      <td></td>\n",
       "      <td></td>\n",
       "    </tr>\n",
       "    <tr>\n",
       "      <th>5</th>\n",
       "      <td></td>\n",
       "      <td>double tête plate six lobes int. avec nervures</td>\n",
       "      <td></td>\n",
       "      <td></td>\n",
       "      <td></td>\n",
       "      <td></td>\n",
       "      <td></td>\n",
       "      <td></td>\n",
       "    </tr>\n",
       "    <tr>\n",
       "      <th>6</th>\n",
       "      <td></td>\n",
       "      <td></td>\n",
       "      <td>Demandé:</td>\n",
       "      <td></td>\n",
       "      <td></td>\n",
       "      <td></td>\n",
       "      <td></td>\n",
       "      <td></td>\n",
       "    </tr>\n",
       "    <tr>\n",
       "      <th>7</th>\n",
       "      <td></td>\n",
       "      <td></td>\n",
       "      <td></td>\n",
       "      <td></td>\n",
       "      <td>49,97 €</td>\n",
       "      <td></td>\n",
       "      <td>48,97 €</td>\n",
       "      <td></td>\n",
       "    </tr>\n",
       "    <tr>\n",
       "      <th>8</th>\n",
       "      <td></td>\n",
       "      <td>filet partiel - pointe coupante T17</td>\n",
       "      <td></td>\n",
       "      <td></td>\n",
       "      <td></td>\n",
       "      <td></td>\n",
       "      <td></td>\n",
       "      <td></td>\n",
       "    </tr>\n",
       "    <tr>\n",
       "      <th>9</th>\n",
       "      <td></td>\n",
       "      <td></td>\n",
       "      <td>2.000 Pce</td>\n",
       "      <td>Stock:</td>\n",
       "      <td></td>\n",
       "      <td></td>\n",
       "      <td></td>\n",
       "      <td></td>\n",
       "    </tr>\n",
       "    <tr>\n",
       "      <th>10</th>\n",
       "      <td>10</td>\n",
       "      <td></td>\n",
       "      <td></td>\n",
       "      <td></td>\n",
       "      <td>/ 1.000</td>\n",
       "      <td>-2 %</td>\n",
       "      <td>/ 1.000</td>\n",
       "      <td>117,53 €</td>\n",
       "    </tr>\n",
       "    <tr>\n",
       "      <th>11</th>\n",
       "      <td></td>\n",
       "      <td>emballage standard</td>\n",
       "      <td>Arrondi:</td>\n",
       "      <td></td>\n",
       "      <td></td>\n",
       "      <td></td>\n",
       "      <td></td>\n",
       "      <td></td>\n",
       "    </tr>\n",
       "    <tr>\n",
       "      <th>12</th>\n",
       "      <td></td>\n",
       "      <td></td>\n",
       "      <td></td>\n",
       "      <td>2.400 Pce</td>\n",
       "      <td></td>\n",
       "      <td></td>\n",
       "      <td></td>\n",
       "      <td></td>\n",
       "    </tr>\n",
       "    <tr>\n",
       "      <th>13</th>\n",
       "      <td></td>\n",
       "      <td></td>\n",
       "      <td></td>\n",
       "      <td></td>\n",
       "      <td>Pce</td>\n",
       "      <td></td>\n",
       "      <td>Pce</td>\n",
       "      <td></td>\n",
       "    </tr>\n",
       "    <tr>\n",
       "      <th>14</th>\n",
       "      <td></td>\n",
       "      <td>Art. client: 924734</td>\n",
       "      <td>2.400 Pce</td>\n",
       "      <td></td>\n",
       "      <td></td>\n",
       "      <td></td>\n",
       "      <td></td>\n",
       "      <td></td>\n",
       "    </tr>\n",
       "    <tr>\n",
       "      <th>15</th>\n",
       "      <td></td>\n",
       "      <td>QTE: 200 Pce</td>\n",
       "      <td></td>\n",
       "      <td></td>\n",
       "      <td></td>\n",
       "      <td></td>\n",
       "      <td></td>\n",
       "      <td></td>\n",
       "    </tr>\n",
       "    <tr>\n",
       "      <th>16</th>\n",
       "      <td></td>\n",
       "      <td>PFWVTV001004500603 / PWVTVK45060 Z (*)</td>\n",
       "      <td></td>\n",
       "      <td></td>\n",
       "      <td></td>\n",
       "      <td></td>\n",
       "      <td></td>\n",
       "      <td></td>\n",
       "    </tr>\n",
       "    <tr>\n",
       "      <th>17</th>\n",
       "      <td></td>\n",
       "      <td>Vis à panneaux PFS+ TF-T * 4,50x60 Zn (T20)</td>\n",
       "      <td></td>\n",
       "      <td></td>\n",
       "      <td></td>\n",
       "      <td></td>\n",
       "      <td></td>\n",
       "      <td></td>\n",
       "    </tr>\n",
       "    <tr>\n",
       "      <th>18</th>\n",
       "      <td></td>\n",
       "      <td>double tête plate six lobes int. avec nervures</td>\n",
       "      <td></td>\n",
       "      <td></td>\n",
       "      <td></td>\n",
       "      <td></td>\n",
       "      <td></td>\n",
       "      <td></td>\n",
       "    </tr>\n",
       "    <tr>\n",
       "      <th>19</th>\n",
       "      <td></td>\n",
       "      <td></td>\n",
       "      <td></td>\n",
       "      <td></td>\n",
       "      <td>28,63 €</td>\n",
       "      <td></td>\n",
       "      <td>28,63 €</td>\n",
       "      <td></td>\n",
       "    </tr>\n",
       "    <tr>\n",
       "      <th>20</th>\n",
       "      <td></td>\n",
       "      <td>filet total - pointe coupante T17</td>\n",
       "      <td></td>\n",
       "      <td></td>\n",
       "      <td></td>\n",
       "      <td></td>\n",
       "      <td></td>\n",
       "      <td></td>\n",
       "    </tr>\n",
       "    <tr>\n",
       "      <th>21</th>\n",
       "      <td></td>\n",
       "      <td></td>\n",
       "      <td></td>\n",
       "      <td>Stock:</td>\n",
       "      <td></td>\n",
       "      <td></td>\n",
       "      <td></td>\n",
       "      <td></td>\n",
       "    </tr>\n",
       "    <tr>\n",
       "      <th>22</th>\n",
       "      <td>20</td>\n",
       "      <td></td>\n",
       "      <td>2.400 Pce</td>\n",
       "      <td></td>\n",
       "      <td>/ 1.000</td>\n",
       "      <td></td>\n",
       "      <td>/ 1.000</td>\n",
       "      <td>68,71 €</td>\n",
       "    </tr>\n",
       "    <tr>\n",
       "      <th>23</th>\n",
       "      <td></td>\n",
       "      <td>emballage petit</td>\n",
       "      <td></td>\n",
       "      <td></td>\n",
       "      <td></td>\n",
       "      <td></td>\n",
       "      <td></td>\n",
       "      <td></td>\n",
       "    </tr>\n",
       "    <tr>\n",
       "      <th>24</th>\n",
       "      <td></td>\n",
       "      <td></td>\n",
       "      <td></td>\n",
       "      <td>2.400 Pce</td>\n",
       "      <td></td>\n",
       "      <td></td>\n",
       "      <td></td>\n",
       "      <td></td>\n",
       "    </tr>\n",
       "    <tr>\n",
       "      <th>25</th>\n",
       "      <td></td>\n",
       "      <td></td>\n",
       "      <td></td>\n",
       "      <td></td>\n",
       "      <td>Pce</td>\n",
       "      <td></td>\n",
       "      <td>Pce</td>\n",
       "      <td></td>\n",
       "    </tr>\n",
       "    <tr>\n",
       "      <th>26</th>\n",
       "      <td></td>\n",
       "      <td>Art. client: 929735</td>\n",
       "      <td></td>\n",
       "      <td></td>\n",
       "      <td></td>\n",
       "      <td></td>\n",
       "      <td></td>\n",
       "      <td></td>\n",
       "    </tr>\n",
       "    <tr>\n",
       "      <th>27</th>\n",
       "      <td></td>\n",
       "      <td>QTE: 200 Pce</td>\n",
       "      <td></td>\n",
       "      <td></td>\n",
       "      <td></td>\n",
       "      <td></td>\n",
       "      <td></td>\n",
       "      <td></td>\n",
       "    </tr>\n",
       "  </tbody>\n",
       "</table>\n",
       "</div>"
      ],
      "text/plain": [
       "       0                                               1          2  \\\n",
       "0                                                          QUANTITE   \n",
       "1   POS.                                     DESCRIPTION              \n",
       "2                                                         COMMANDEE   \n",
       "3                 PFWVTG001005000803 / PWVTGG50080 Z (*)              \n",
       "4            Vis à panneaux PFS+ TF-T * 5,00x80 Zn (T25)              \n",
       "5         double tête plate six lobes int. avec nervures              \n",
       "6                                                          Demandé:   \n",
       "7                                                                     \n",
       "8                    filet partiel - pointe coupante T17              \n",
       "9                                                         2.000 Pce   \n",
       "10    10                                                              \n",
       "11                                    emballage standard   Arrondi:   \n",
       "12                                                                    \n",
       "13                                                                    \n",
       "14                                   Art. client: 924734  2.400 Pce   \n",
       "15                                          QTE: 200 Pce              \n",
       "16                PFWVTV001004500603 / PWVTVK45060 Z (*)              \n",
       "17           Vis à panneaux PFS+ TF-T * 4,50x60 Zn (T20)              \n",
       "18        double tête plate six lobes int. avec nervures              \n",
       "19                                                                    \n",
       "20                     filet total - pointe coupante T17              \n",
       "21                                                                    \n",
       "22    20                                                  2.400 Pce   \n",
       "23                                       emballage petit              \n",
       "24                                                                    \n",
       "25                                                                    \n",
       "26                                   Art. client: 929735              \n",
       "27                                          QTE: 200 Pce              \n",
       "\n",
       "            3        4     5        6         7  \n",
       "0    QUANTITE   PRIX /          NET /   MONTANT  \n",
       "1                                                \n",
       "2   CONFIRMEE    UNITE          UNITE       NET  \n",
       "3                                                \n",
       "4                                                \n",
       "5                                                \n",
       "6                                                \n",
       "7              49,97 €        48,97 €            \n",
       "8                                                \n",
       "9      Stock:                                    \n",
       "10             / 1.000  -2 %  / 1.000  117,53 €  \n",
       "11                                               \n",
       "12  2.400 Pce                                    \n",
       "13                 Pce            Pce            \n",
       "14                                               \n",
       "15                                               \n",
       "16                                               \n",
       "17                                               \n",
       "18                                               \n",
       "19             28,63 €        28,63 €            \n",
       "20                                               \n",
       "21     Stock:                                    \n",
       "22             / 1.000        / 1.000   68,71 €  \n",
       "23                                               \n",
       "24  2.400 Pce                                    \n",
       "25                 Pce            Pce            \n",
       "26                                               \n",
       "27                                               "
      ]
     },
     "execution_count": 26,
     "metadata": {},
     "output_type": "execute_result"
    }
   ],
   "source": [
    "# table we are interested in\n",
    "df1 = pd.read_parquet('assets/camelot_plain-1.parquet', engine='fastparquet')\n",
    "df1"
   ]
  },
  {
   "cell_type": "markdown",
   "metadata": {},
   "source": [
    "## 2. Apache Tika \n",
    "    - Used Tika to extract text content from PDF file."
   ]
  },
  {
   "cell_type": "code",
   "execution_count": null,
   "metadata": {},
   "outputs": [],
   "source": [
    "# Here is the extraced content\n",
    "\n",
    "utils.load_text('assets/tika_text.txt', print_=True)"
   ]
  },
  {
   "cell_type": "markdown",
   "metadata": {},
   "source": [
    "##### Extraction of the text was good, so went ahead with Custom NER training.\n"
   ]
  },
  {
   "cell_type": "markdown",
   "metadata": {},
   "source": [
    "## 3. Custom NER training in Spacy\n",
    "\n",
    "    - However as a first cut I passed in all the text content which was extracted. My first impression was the model didn't learn at all because when I pass the full text it couldn't find any entities.\n",
    "<br>"
   ]
  },
  {
   "cell_type": "markdown",
   "metadata": {},
   "source": [
    "##### My reasoning to not learning anything was this\n",
    "***The reason to that is there was a lot of other contexually non-relevant content in the header and footer which confuses the model.***"
   ]
  },
  {
   "cell_type": "code",
   "execution_count": 9,
   "metadata": {},
   "outputs": [
    {
     "name": "stdout",
     "output_type": "stream",
     "text": [
      "\n",
      "Loaded ('fr', 'core_news_md') model \n",
      "\n"
     ]
    },
    {
     "data": {
      "text/html": [
       "<span class=\"tex2jax_ignore\"><div class=\"entities\" style=\"line-height: 2.5; direction: ltr\">Numéro de TVA : BE 0425.888.396 RPR GENT KBC IBAN BE50 4459 6389 4118 BIC KREDBEBB  ING IBAN BE98 3900 3232 4293 BIC BBRUBEBB  BNP IBAN BE78 2900 1606 0086 BIC GEBABEBB  BEL IBAN BE30 5645 1378 2011 BIC GKCCBEBB 1 / 2  pgb-Europe nv  Gontrode Heirweg 170  9090 Melle - Belgium    Tél. +32 (0)9 272 70 70  info@pgb-europe.com  Fax +32 (0)9 272 70 99  www.pgb-europe.com  Société Certifiée ISO 9001  CONFIRMATION D'ORDRE - 301437  Date du document 02/05/2022 Numéro de client 1000293 Numéro de TVA client BE0415809702 Votre réf. 13639 E-mail florine.fernez@plasticentre.b  e Tél. 069532060  Plasticentre sa  Lid Menouquin :115  /PLH   Chée de Russeignies 11  9600 Renaix  Adresse de facturation Menouquin sv Pro  Groep Meno0  Vieux Chemin de Thines 14  1400 Nivelles  Adresse de livraison Plasticentre  003147999  Rue De L'Artisanat 11  7900 Leuze-en-Hainaut  Vous pourrez trouver nos conditions générales de vente et de livraison sur ce  document ou via le lien suivant :   https://www.pgb-europe.com/fr-fr/legal/terms-and-conditions  Conditions de paiement Dû en 60 jours Conditions de livraison CPT (Port payé) Leuze-en-Hainaut Valeur d'envoi franco 250€     POS. DESCRIPTION QUANTITE   COMMANDEE QUANTITE   CONFIRMEE PRIX /  UNITE  NET /  UNITE  MONTANT  NET  10  PFWVTG001005000803 / PWVTGG50080 Z (*) Vis à panneaux PFS+ TF-T * 5,00x80 Zn (T25)  double tête plate six lobes int. avec nervures  filet partiel - pointe coupante T17  emballage standard Art. client: 924734 QTE: 200 Pce  Demandé: 2.000 Pce Arrondi:  2.400 Pce  Stock: 2.400 Pce  49,97 €  / 1.000   Pce  -2 %  48,97 €  / 1.000   Pce  117,53 €  20  PFWVTV001004500603 / PWVTVK45060 Z (*) Vis à panneaux PFS+ TF-T * 4,50x60 Zn (T20)  double tête plate six lobes int. avec nervures  filet total - pointe coupante T17  emballage petit Art. client: \n",
       "<mark class=\"entity\" style=\"background: linear-gradient(90deg, #aa9cfc, #fc9ce7); padding: 0.45em 0.6em; margin: 0 0.25em; line-height: 1; border-radius: 0.35em;\">\n",
       "    929735\n",
       "    <span style=\"font-size: 0.8em; font-weight: bold; line-height: 1; border-radius: 0.35em; vertical-align: middle; margin-left: 0.5rem\">Art ID</span>\n",
       "</mark>\n",
       " QTE: 200 Pce  2.400 Pce Stock: 2.400 Pce  28,63 €  / 1.000   Pce   28,63 €  / 1.000   Pce  68,71 €  Sous Total 188,64 €  Remise cumulée -2,40 €  Montant net 186,24 €  TVA (21%) 39,11 €  Montant total 225,35 €  Poids brut 27,600 KG        CONFIRMATION D'ORDRE - 301437  Date de document 02/05/2022  2 / 2  Nous restons à votre disposition pour tout renseignement complémentaire.  Sofie Van Dorpe Sales sofie.van.dorpe@pgb-europe.com +32 92727072  (*) Sans Chrome VI conformément à la directive RoHS (directive 2011/65 /UE).</br></div></span>"
      ],
      "text/plain": [
       "<IPython.core.display.HTML object>"
      ]
     },
     "metadata": {},
     "output_type": "display_data"
    }
   ],
   "source": [
    "test_input = utils.load_text('assets/tika_text.txt')\n",
    "french_model = utils.load_model('fr_model')\n",
    "output = utils.inference(french_model, test_input)"
   ]
  },
  {
   "cell_type": "markdown",
   "metadata": {},
   "source": [
    "## 4. Transformer model to Rescue.\n",
    "    - Translated French text to English to use it in Transformer model to train.\n",
    "<br><br>"
   ]
  },
  {
   "cell_type": "markdown",
   "metadata": {},
   "source": [
    "***Results from Transformer models are even worse.***"
   ]
  },
  {
   "cell_type": "code",
   "execution_count": 2,
   "metadata": {},
   "outputs": [
    {
     "name": "stdout",
     "output_type": "stream",
     "text": [
      "\n",
      "Loaded ('en', 'core_web_trf') model \n",
      "\n"
     ]
    },
    {
     "data": {
      "text/html": [
       "<span class=\"tex2jax_ignore\"><div class=\"entities\" style=\"line-height: 2.5; direction: ltr\">Numéro de TVA : BE 0425.888.396 RPR GENT KBC IBAN BE50 4459 6389 4118 BIC KREDBEBB  ING IBAN BE98 3900 3232 4293 BIC BBRUBEBB  BNP IBAN BE78 2900 1606 0086 BIC GEBABEBB  BEL IBAN BE30 5645 1378 2011 BIC GKCCBEBB 1 / 2  pgb-Europe nv  Gontrode Heirweg 170  9090 Melle - Belgium    Tél. +32 (0)9 272 70 70  info@pgb-europe.com  Fax +32 (0)9 272 70 99  www.pgb-europe.com  Société Certifiée ISO 9001  CONFIRMATION D'ORDRE - 301437  Date du document 02/05/2022 Numéro de client 1000293 Numéro de TVA client BE0415809702 Votre réf. 13639 E-mail florine.fernez@plasticentre.b  e Tél. 069532060  Plasticentre sa  Lid Menouquin :115  /PLH   Chée de Russeignies 11  9600 Renaix  Adresse de facturation Menouquin sv Pro  Groep Meno0  Vieux Chemin de Thines 14  1400 Nivelles  Adresse de livraison Plasticentre  003147999  Rue De L'Artisanat 11  7900 Leuze-en-Hainaut  Vous pourrez trouver nos conditions générales de vente et de livraison sur ce  document ou via le lien suivant :   https://www.pgb-europe.com/fr-fr/legal/terms-and-conditions  Conditions de paiement Dû en 60 jours Conditions de livraison CPT (Port payé) Leuze-en-Hainaut Valeur d'envoi franco 250€     POS. DESCRIPTION QUANTITE   COMMANDEE QUANTITE   CONFIRMEE PRIX /  UNITE  NET /  UNITE  MONTANT  NET  10  PFWVTG001005000803 / PWVTGG50080 Z (*) Vis à panneaux PFS+ TF-T * 5,00x80 Zn (T25)  double tête plate \n",
       "<mark class=\"entity\" style=\"background: #e4e7d2; padding: 0.45em 0.6em; margin: 0 0.25em; line-height: 1; border-radius: 0.35em;\">\n",
       "    six lobes\n",
       "    <span style=\"font-size: 0.8em; font-weight: bold; line-height: 1; border-radius: 0.35em; vertical-align: middle; margin-left: 0.5rem\">QUANTITY</span>\n",
       "</mark>\n",
       " int. avec nervures  filet partiel - pointe coupante T17  emballage standard Art. client: 924734 QTE: 200 Pce  Demandé: 2.000 Pce Arrondi:  2.400 Pce  Stock: 2.400 Pce  49,97 €  / \n",
       "<mark class=\"entity\" style=\"background: #e4e7d2; padding: 0.45em 0.6em; margin: 0 0.25em; line-height: 1; border-radius: 0.35em;\">\n",
       "    1.000\n",
       "    <span style=\"font-size: 0.8em; font-weight: bold; line-height: 1; border-radius: 0.35em; vertical-align: middle; margin-left: 0.5rem\">CARDINAL</span>\n",
       "</mark>\n",
       "   Pce  -2 %  48,97 €  / 1.000   Pce  117,53 €  \n",
       "<mark class=\"entity\" style=\"background: #e4e7d2; padding: 0.45em 0.6em; margin: 0 0.25em; line-height: 1; border-radius: 0.35em;\">\n",
       "    20\n",
       "    <span style=\"font-size: 0.8em; font-weight: bold; line-height: 1; border-radius: 0.35em; vertical-align: middle; margin-left: 0.5rem\">CARDINAL</span>\n",
       "</mark>\n",
       "  PFWVTV001004500603 / PWVTVK45060 Z (*) Vis à panneaux PFS+ TF-T * 4,50x60 Zn (T20)  double tête plate \n",
       "<mark class=\"entity\" style=\"background: #e4e7d2; padding: 0.45em 0.6em; margin: 0 0.25em; line-height: 1; border-radius: 0.35em;\">\n",
       "    six\n",
       "    <span style=\"font-size: 0.8em; font-weight: bold; line-height: 1; border-radius: 0.35em; vertical-align: middle; margin-left: 0.5rem\">CARDINAL</span>\n",
       "</mark>\n",
       " lobes int. avec nervures  filet total - pointe coupante T17  emballage petit Art. client: \n",
       "<mark class=\"entity\" style=\"background: #e4e7d2; padding: 0.45em 0.6em; margin: 0 0.25em; line-height: 1; border-radius: 0.35em;\">\n",
       "    929735\n",
       "    <span style=\"font-size: 0.8em; font-weight: bold; line-height: 1; border-radius: 0.35em; vertical-align: middle; margin-left: 0.5rem\">CARDINAL</span>\n",
       "</mark>\n",
       " QTE: 200 Pce  2.400 Pce Stock: 2.400 Pce  28,63 €  / 1.000   Pce   28,63 €  / 1.000   Pce  68,71 €  Sous Total \n",
       "<mark class=\"entity\" style=\"background: #e4e7d2; padding: 0.45em 0.6em; margin: 0 0.25em; line-height: 1; border-radius: 0.35em;\">\n",
       "    188,64 €\n",
       "    <span style=\"font-size: 0.8em; font-weight: bold; line-height: 1; border-radius: 0.35em; vertical-align: middle; margin-left: 0.5rem\">MONEY</span>\n",
       "</mark>\n",
       "  Remise cumulée -2,40 €  Montant net \n",
       "<mark class=\"entity\" style=\"background: #e4e7d2; padding: 0.45em 0.6em; margin: 0 0.25em; line-height: 1; border-radius: 0.35em;\">\n",
       "    186,24 €\n",
       "    <span style=\"font-size: 0.8em; font-weight: bold; line-height: 1; border-radius: 0.35em; vertical-align: middle; margin-left: 0.5rem\">MONEY</span>\n",
       "</mark>\n",
       "  TVA (\n",
       "<mark class=\"entity\" style=\"background: #e4e7d2; padding: 0.45em 0.6em; margin: 0 0.25em; line-height: 1; border-radius: 0.35em;\">\n",
       "    21%\n",
       "    <span style=\"font-size: 0.8em; font-weight: bold; line-height: 1; border-radius: 0.35em; vertical-align: middle; margin-left: 0.5rem\">PERCENT</span>\n",
       "</mark>\n",
       ") \n",
       "<mark class=\"entity\" style=\"background: #e4e7d2; padding: 0.45em 0.6em; margin: 0 0.25em; line-height: 1; border-radius: 0.35em;\">\n",
       "    39,11 €\n",
       "    <span style=\"font-size: 0.8em; font-weight: bold; line-height: 1; border-radius: 0.35em; vertical-align: middle; margin-left: 0.5rem\">MONEY</span>\n",
       "</mark>\n",
       "  Montant total \n",
       "<mark class=\"entity\" style=\"background: #e4e7d2; padding: 0.45em 0.6em; margin: 0 0.25em; line-height: 1; border-radius: 0.35em;\">\n",
       "    225,35 €\n",
       "    <span style=\"font-size: 0.8em; font-weight: bold; line-height: 1; border-radius: 0.35em; vertical-align: middle; margin-left: 0.5rem\">MONEY</span>\n",
       "</mark>\n",
       "  Poids brut \n",
       "<mark class=\"entity\" style=\"background: #e4e7d2; padding: 0.45em 0.6em; margin: 0 0.25em; line-height: 1; border-radius: 0.35em;\">\n",
       "    27,600 KG\n",
       "    <span style=\"font-size: 0.8em; font-weight: bold; line-height: 1; border-radius: 0.35em; vertical-align: middle; margin-left: 0.5rem\">QUANTITY</span>\n",
       "</mark>\n",
       "        CONFIRMATION D'ORDRE - 301437  Date de document 02/05/2022  2 / 2  Nous restons à votre disposition pour tout renseignement complémentaire.  \n",
       "<mark class=\"entity\" style=\"background: #7aecec; padding: 0.45em 0.6em; margin: 0 0.25em; line-height: 1; border-radius: 0.35em;\">\n",
       "    Sofie Van Dorpe Sales\n",
       "    <span style=\"font-size: 0.8em; font-weight: bold; line-height: 1; border-radius: 0.35em; vertical-align: middle; margin-left: 0.5rem\">ORG</span>\n",
       "</mark>\n",
       " sofie.van.dorpe@pgb-europe.com +32 92727072  (*) Sans Chrome VI conformément à la directive RoHS (directive 2011/65 /UE).</br></div></span>"
      ],
      "text/plain": [
       "<IPython.core.display.HTML object>"
      ]
     },
     "metadata": {},
     "output_type": "display_data"
    }
   ],
   "source": [
    "test_input = utils.load_text('assets/tika_text.txt')\n",
    "transformer_model = utils.load_model('eng_transformers')\n",
    "output = utils.inference(transformer_model, test_input, transformer=True)"
   ]
  },
  {
   "cell_type": "markdown",
   "metadata": {},
   "source": [
    "<br><br><br><br><br><br>\n",
    "# This is the actual hack to the solution."
   ]
  },
  {
   "cell_type": "markdown",
   "metadata": {},
   "source": [
    "## Just use the relevant content to train and test.\n",
    "\n",
    "***Rather than this***"
   ]
  },
  {
   "cell_type": "code",
   "execution_count": 5,
   "metadata": {},
   "outputs": [
    {
     "data": {
      "text/plain": [
       "\"Numéro de TVA : BE 0425.888.396 RPR GENT KBC IBAN BE50 4459 6389 4118 BIC KREDBEBB  ING IBAN BE98 3900 3232 4293 BIC BBRUBEBB  BNP IBAN BE78 2900 1606 0086 BIC GEBABEBB  BEL IBAN BE30 5645 1378 2011 BIC GKCCBEBB 1 / 2  pgb-Europe nv  Gontrode Heirweg 170  9090 Melle - Belgium    Tél. +32 (0)9 272 70 70  info@pgb-europe.com  Fax +32 (0)9 272 70 99  www.pgb-europe.com  Société Certifiée ISO 9001  CONFIRMATION D'ORDRE - 301437  Date du document 02/05/2022 Numéro de client 1000293 Numéro de TVA client BE0415809702 Votre réf. 13639 E-mail florine.fernez@plasticentre.b  e Tél. 069532060  Plasticentre sa  Lid Menouquin :115  /PLH   Chée de Russeignies 11  9600 Renaix  Adresse de facturation Menouquin sv Pro  Groep Meno0  Vieux Chemin de Thines 14  1400 Nivelles  Adresse de livraison Plasticentre  003147999  Rue De L'Artisanat 11  7900 Leuze-en-Hainaut  Vous pourrez trouver nos conditions générales de vente et de livraison sur ce  document ou via le lien suivant :   https://www.pgb-europe.com/fr-fr/legal/terms-and-conditions  Conditions de paiement Dû en 60 jours Conditions de livraison CPT (Port payé) Leuze-en-Hainaut Valeur d'envoi franco 250€     POS. DESCRIPTION QUANTITE   COMMANDEE QUANTITE   CONFIRMEE PRIX /  UNITE  NET /  UNITE  MONTANT  NET  10  PFWVTG001005000803 / PWVTGG50080 Z (*) Vis à panneaux PFS+ TF-T * 5,00x80 Zn (T25)  double tête plate six lobes int. avec nervures  filet partiel - pointe coupante T17  emballage standard Art. client: 924734 QTE: 200 Pce  Demandé: 2.000 Pce Arrondi:  2.400 Pce  Stock: 2.400 Pce  49,97 €  / 1.000   Pce  -2 %  48,97 €  / 1.000   Pce  117,53 €  20  PFWVTV001004500603 / PWVTVK45060 Z (*) Vis à panneaux PFS+ TF-T * 4,50x60 Zn (T20)  double tête plate six lobes int. avec nervures  filet total - pointe coupante T17  emballage petit Art. client: 929735 QTE: 200 Pce  2.400 Pce Stock: 2.400 Pce  28,63 €  / 1.000   Pce   28,63 €  / 1.000   Pce  68,71 €  Sous Total 188,64 €  Remise cumulée -2,40 €  Montant net 186,24 €  TVA (21%) 39,11 €  Montant total 225,35 €  Poids brut 27,600 KG        CONFIRMATION D'ORDRE - 301437  Date de document 02/05/2022  2 / 2  Nous restons à votre disposition pour tout renseignement complémentaire.  Sofie Van Dorpe Sales sofie.van.dorpe@pgb-europe.com +32 92727072  (*) Sans Chrome VI conformément à la directive RoHS (directive 2011/65 /UE).\\n\""
      ]
     },
     "execution_count": 5,
     "metadata": {},
     "output_type": "execute_result"
    }
   ],
   "source": [
    "utils.load_text('assets/tika_text.txt')"
   ]
  },
  {
   "cell_type": "markdown",
   "metadata": {},
   "source": [
    "<br>\n",
    "<br>\n",
    "\n",
    "***Just use this***"
   ]
  },
  {
   "cell_type": "code",
   "execution_count": 7,
   "metadata": {},
   "outputs": [
    {
     "data": {
      "text/plain": [
       "'POS. DESCRIPTION QUANTITE   COMMANDEE QUANTITE   CONFIRMEE PRIX /  UNITE  NET /  UNITE  MONTANT  NET  10  PFWVTG001005000803 / PWVTGG50080 Z (*) Vis à panneaux PFS+ TF-T * 5,00x80 Zn (T25)  double tête plate six lobes int. avec nervures  filet partiel - pointe coupante T17  emballage standard Art. client: 924734 QTE: 200 Pce  Demandé: 2.000 Pce Arrondi:  2.400 Pce  Stock: 2.400 Pce  49,97 / 1.000   Pce  -2 %  48,97 / 1.000   Pce  117,53   20  PFWVTV001004500603 / PWVTVK45060 Z (*) Vis à panneaux PFS+ TF-T * 4,50x60 Zn (T20)  double tête plate six lobes int. avec nervures  filet total - pointe coupante T17  emballage petit Art. client: 929735 QTE: 200 Pce  2.400 Pce Stock: 2.400 Pce  28,63 / 1.000 Pce 28,63 / 1.000 Pce  68,71   Sous Total 188,64   Remise cumulée -2,40   Montant net 186,24   TVA (21%) 39,11   Montant total 225,35  Poids brut 27,600 KG'"
      ]
     },
     "execution_count": 7,
     "metadata": {},
     "output_type": "execute_result"
    }
   ],
   "source": [
    "utils.load_text('assets/test_input.txt')"
   ]
  },
  {
   "cell_type": "markdown",
   "metadata": {
    "tags": []
   },
   "source": [
    "<br><br>\n",
    "## 5. Transformer model but just with the most appropriate content.\n",
    "\n",
    "***Translated French text to English but but but just the part where it's contexually necessary to train.*** \n",
    "<br><br>\n",
    "***Still results from Transformer aren't that great. Like no difference at all, infact it's not even close.***"
   ]
  },
  {
   "cell_type": "code",
   "execution_count": 4,
   "metadata": {},
   "outputs": [
    {
     "name": "stdout",
     "output_type": "stream",
     "text": [
      "\n",
      "Loaded ('en', 'core_web_trf') model \n",
      "\n"
     ]
    },
    {
     "data": {
      "text/html": [
       "<span class=\"tex2jax_ignore\"><div class=\"entities\" style=\"line-height: 2.5; direction: ltr\">Numéro de TVA : BE 0425.888.396 RPR GENT KBC IBAN BE50 4459 6389 4118 BIC KREDBEBB  ING IBAN BE98 3900 3232 4293 BIC BBRUBEBB  BNP IBAN BE78 2900 1606 0086 BIC GEBABEBB  BEL IBAN BE30 5645 1378 2011 BIC GKCCBEBB 1 / 2  pgb-Europe nv  Gontrode Heirweg 170  9090 Melle - Belgium    Tél. +32 (0)9 272 70 70  info@pgb-europe.com  Fax +32 (0)9 272 70 99  www.pgb-europe.com  Société Certifiée ISO 9001  CONFIRMATION D'ORDRE - 301437  Date du document 02/05/2022 Numéro de client 1000293 Numéro de TVA client BE0415809702 Votre réf. 13639 E-mail florine.fernez@plasticentre.b  e Tél. 069532060  Plasticentre sa  Lid Menouquin :115  /PLH   Chée de Russeignies 11  9600 Renaix  Adresse de facturation Menouquin sv Pro  Groep Meno0  Vieux Chemin de Thines 14  1400 Nivelles  Adresse de livraison Plasticentre  003147999  Rue De L'Artisanat 11  7900 Leuze-en-Hainaut  Vous pourrez trouver nos conditions générales de vente et de livraison sur ce  document ou via le lien suivant :   https://www.pgb-europe.com/fr-fr/legal/terms-and-conditions  Conditions de paiement Dû en 60 jours Conditions de livraison CPT (Port payé) Leuze-en-Hainaut Valeur d'envoi franco 250€     POS. DESCRIPTION QUANTITE   COMMANDEE QUANTITE   CONFIRMEE PRIX /  UNITE  NET /  UNITE  MONTANT  NET  10  PFWVTG001005000803 / PWVTGG50080 Z (*) Vis à panneaux PFS+ TF-T * 5,00x80 Zn (T25)  double tête plate \n",
       "<mark class=\"entity\" style=\"background: #e4e7d2; padding: 0.45em 0.6em; margin: 0 0.25em; line-height: 1; border-radius: 0.35em;\">\n",
       "    six lobes\n",
       "    <span style=\"font-size: 0.8em; font-weight: bold; line-height: 1; border-radius: 0.35em; vertical-align: middle; margin-left: 0.5rem\">QUANTITY</span>\n",
       "</mark>\n",
       " int. avec nervures  filet partiel - pointe coupante T17  emballage standard Art. client: 924734 QTE: 200 Pce  Demandé: 2.000 Pce Arrondi:  2.400 Pce  Stock: 2.400 Pce  49,97 €  / \n",
       "<mark class=\"entity\" style=\"background: #e4e7d2; padding: 0.45em 0.6em; margin: 0 0.25em; line-height: 1; border-radius: 0.35em;\">\n",
       "    1.000\n",
       "    <span style=\"font-size: 0.8em; font-weight: bold; line-height: 1; border-radius: 0.35em; vertical-align: middle; margin-left: 0.5rem\">CARDINAL</span>\n",
       "</mark>\n",
       "   Pce  -2 %  48,97 €  / 1.000   Pce  117,53 €  \n",
       "<mark class=\"entity\" style=\"background: #e4e7d2; padding: 0.45em 0.6em; margin: 0 0.25em; line-height: 1; border-radius: 0.35em;\">\n",
       "    20\n",
       "    <span style=\"font-size: 0.8em; font-weight: bold; line-height: 1; border-radius: 0.35em; vertical-align: middle; margin-left: 0.5rem\">CARDINAL</span>\n",
       "</mark>\n",
       "  PFWVTV001004500603 / PWVTVK45060 Z (*) Vis à panneaux PFS+ TF-T * 4,50x60 Zn (T20)  double tête plate \n",
       "<mark class=\"entity\" style=\"background: #e4e7d2; padding: 0.45em 0.6em; margin: 0 0.25em; line-height: 1; border-radius: 0.35em;\">\n",
       "    six\n",
       "    <span style=\"font-size: 0.8em; font-weight: bold; line-height: 1; border-radius: 0.35em; vertical-align: middle; margin-left: 0.5rem\">CARDINAL</span>\n",
       "</mark>\n",
       " lobes int. avec nervures  filet total - pointe coupante T17  emballage petit Art. client: \n",
       "<mark class=\"entity\" style=\"background: #e4e7d2; padding: 0.45em 0.6em; margin: 0 0.25em; line-height: 1; border-radius: 0.35em;\">\n",
       "    929735\n",
       "    <span style=\"font-size: 0.8em; font-weight: bold; line-height: 1; border-radius: 0.35em; vertical-align: middle; margin-left: 0.5rem\">CARDINAL</span>\n",
       "</mark>\n",
       " QTE: 200 Pce  2.400 Pce Stock: 2.400 Pce  28,63 €  / 1.000   Pce   28,63 €  / 1.000   Pce  68,71 €  Sous Total \n",
       "<mark class=\"entity\" style=\"background: #e4e7d2; padding: 0.45em 0.6em; margin: 0 0.25em; line-height: 1; border-radius: 0.35em;\">\n",
       "    188,64 €\n",
       "    <span style=\"font-size: 0.8em; font-weight: bold; line-height: 1; border-radius: 0.35em; vertical-align: middle; margin-left: 0.5rem\">MONEY</span>\n",
       "</mark>\n",
       "  Remise cumulée -2,40 €  Montant net \n",
       "<mark class=\"entity\" style=\"background: #e4e7d2; padding: 0.45em 0.6em; margin: 0 0.25em; line-height: 1; border-radius: 0.35em;\">\n",
       "    186,24 €\n",
       "    <span style=\"font-size: 0.8em; font-weight: bold; line-height: 1; border-radius: 0.35em; vertical-align: middle; margin-left: 0.5rem\">MONEY</span>\n",
       "</mark>\n",
       "  TVA (\n",
       "<mark class=\"entity\" style=\"background: #e4e7d2; padding: 0.45em 0.6em; margin: 0 0.25em; line-height: 1; border-radius: 0.35em;\">\n",
       "    21%\n",
       "    <span style=\"font-size: 0.8em; font-weight: bold; line-height: 1; border-radius: 0.35em; vertical-align: middle; margin-left: 0.5rem\">PERCENT</span>\n",
       "</mark>\n",
       ") \n",
       "<mark class=\"entity\" style=\"background: #e4e7d2; padding: 0.45em 0.6em; margin: 0 0.25em; line-height: 1; border-radius: 0.35em;\">\n",
       "    39,11 €\n",
       "    <span style=\"font-size: 0.8em; font-weight: bold; line-height: 1; border-radius: 0.35em; vertical-align: middle; margin-left: 0.5rem\">MONEY</span>\n",
       "</mark>\n",
       "  Montant total \n",
       "<mark class=\"entity\" style=\"background: #e4e7d2; padding: 0.45em 0.6em; margin: 0 0.25em; line-height: 1; border-radius: 0.35em;\">\n",
       "    225,35 €\n",
       "    <span style=\"font-size: 0.8em; font-weight: bold; line-height: 1; border-radius: 0.35em; vertical-align: middle; margin-left: 0.5rem\">MONEY</span>\n",
       "</mark>\n",
       "  Poids brut \n",
       "<mark class=\"entity\" style=\"background: #e4e7d2; padding: 0.45em 0.6em; margin: 0 0.25em; line-height: 1; border-radius: 0.35em;\">\n",
       "    27,600 KG\n",
       "    <span style=\"font-size: 0.8em; font-weight: bold; line-height: 1; border-radius: 0.35em; vertical-align: middle; margin-left: 0.5rem\">QUANTITY</span>\n",
       "</mark>\n",
       "        CONFIRMATION D'ORDRE - 301437  Date de document 02/05/2022  2 / 2  Nous restons à votre disposition pour tout renseignement complémentaire.  \n",
       "<mark class=\"entity\" style=\"background: #7aecec; padding: 0.45em 0.6em; margin: 0 0.25em; line-height: 1; border-radius: 0.35em;\">\n",
       "    Sofie Van Dorpe Sales\n",
       "    <span style=\"font-size: 0.8em; font-weight: bold; line-height: 1; border-radius: 0.35em; vertical-align: middle; margin-left: 0.5rem\">ORG</span>\n",
       "</mark>\n",
       " sofie.van.dorpe@pgb-europe.com +32 92727072  (*) Sans Chrome VI conformément à la directive RoHS (directive 2011/65 /UE).</br></div></span>"
      ],
      "text/plain": [
       "<IPython.core.display.HTML object>"
      ]
     },
     "metadata": {},
     "output_type": "display_data"
    }
   ],
   "source": [
    "test_input = utils.load_text('assets/tika_text.txt')\n",
    "transformer_model = utils.load_model('eng_transformers2')\n",
    "output = utils.inference(transformer_model, test_input, transformer=True)"
   ]
  },
  {
   "cell_type": "markdown",
   "metadata": {
    "tags": []
   },
   "source": [
    "## 6. Train the same old *fr_core_news_md* French model but with new above mentioned data type.\n",
    "\n",
    "***Voila! It something seems to work.*** \n",
    "<br><br>\n",
    "***Results are great!!!***"
   ]
  },
  {
   "cell_type": "code",
   "execution_count": 8,
   "metadata": {},
   "outputs": [
    {
     "name": "stdout",
     "output_type": "stream",
     "text": [
      "\n",
      "Loaded ('fr', 'core_news_md') model \n",
      "\n"
     ]
    },
    {
     "data": {
      "text/html": [
       "<span class=\"tex2jax_ignore\"><div class=\"entities\" style=\"line-height: 2.5; direction: ltr\">POS. DESCRIPTION QUANTITE   COMMANDEE QUANTITE   CONFIRMEE PRIX /  UNITE  NET /  UNITE  MONTANT  NET  10  PFWVTG001005000803 / PWVTGG50080 Z (*) Vis à panneaux PFS+ TF-T * 5,00x80 Zn (T25)  double tête plate six lobes int. avec nervures  filet partiel - pointe coupante T17  emballage standard Art. client: \n",
       "<mark class=\"entity\" style=\"background: linear-gradient(90deg, #aa9cfc, #fc9ce7); padding: 0.45em 0.6em; margin: 0 0.25em; line-height: 1; border-radius: 0.35em;\">\n",
       "    924734\n",
       "    <span style=\"font-size: 0.8em; font-weight: bold; line-height: 1; border-radius: 0.35em; vertical-align: middle; margin-left: 0.5rem\">Art ID</span>\n",
       "</mark>\n",
       " QTE: 200 Pce  Demandé: 2.000 Pce Arrondi:  2.400 Pce  Stock: 2.400 Pce  \n",
       "<mark class=\"entity\" style=\"background: linear-gradient(90deg, #b58ecc, #5de6de); padding: 0.45em 0.6em; margin: 0 0.25em; line-height: 1; border-radius: 0.35em;\">\n",
       "    49,97 / 1.000\n",
       "    <span style=\"font-size: 0.8em; font-weight: bold; line-height: 1; border-radius: 0.35em; vertical-align: middle; margin-left: 0.5rem\">Price per Unit</span>\n",
       "</mark>\n",
       "   Pce  -2 %  \n",
       "<mark class=\"entity\" style=\"background: linear-gradient(90deg, #b58ecc, #5de6de); padding: 0.45em 0.6em; margin: 0 0.25em; line-height: 1; border-radius: 0.35em;\">\n",
       "    48,97 / 1.000\n",
       "    <span style=\"font-size: 0.8em; font-weight: bold; line-height: 1; border-radius: 0.35em; vertical-align: middle; margin-left: 0.5rem\">Price per Unit</span>\n",
       "</mark>\n",
       "   Pce  117,53   20  PFWVTV001004500603 / PWVTVK45060 Z (*) Vis à panneaux PFS+ TF-T * 4,50x60 Zn (T20)  double tête plate six lobes int. avec nervures  filet total - pointe coupante T17  emballage petit Art. client: \n",
       "<mark class=\"entity\" style=\"background: linear-gradient(90deg, #aa9cfc, #fc9ce7); padding: 0.45em 0.6em; margin: 0 0.25em; line-height: 1; border-radius: 0.35em;\">\n",
       "    929735\n",
       "    <span style=\"font-size: 0.8em; font-weight: bold; line-height: 1; border-radius: 0.35em; vertical-align: middle; margin-left: 0.5rem\">Art ID</span>\n",
       "</mark>\n",
       " QTE: 200 Pce  2.400 Pce Stock: 2.400 Pce  \n",
       "<mark class=\"entity\" style=\"background: linear-gradient(90deg, #b58ecc, #5de6de); padding: 0.45em 0.6em; margin: 0 0.25em; line-height: 1; border-radius: 0.35em;\">\n",
       "    28,63 / 1.000\n",
       "    <span style=\"font-size: 0.8em; font-weight: bold; line-height: 1; border-radius: 0.35em; vertical-align: middle; margin-left: 0.5rem\">Price per Unit</span>\n",
       "</mark>\n",
       " Pce \n",
       "<mark class=\"entity\" style=\"background: linear-gradient(90deg, #b58ecc, #5de6de); padding: 0.45em 0.6em; margin: 0 0.25em; line-height: 1; border-radius: 0.35em;\">\n",
       "    28,63 / 1.000\n",
       "    <span style=\"font-size: 0.8em; font-weight: bold; line-height: 1; border-radius: 0.35em; vertical-align: middle; margin-left: 0.5rem\">Price per Unit</span>\n",
       "</mark>\n",
       " Pce  68,71   Sous Total 188,64   Remise cumulée -2,40   Montant net 186,24   TVA (21%) 39,11   Montant total 225,35  Poids brut 27,600 KG</div></span>"
      ],
      "text/plain": [
       "<IPython.core.display.HTML object>"
      ]
     },
     "metadata": {},
     "output_type": "display_data"
    }
   ],
   "source": [
    "test_input = utils.load_text('assets/test_input.txt')\n",
    "transformer_model = utils.load_model('fr_model2')\n",
    "output = utils.inference(transformer_model, test_input)"
   ]
  },
  {
   "cell_type": "markdown",
   "metadata": {},
   "source": [
    "## 6.1. Comparing *fr_core_news_md* French model with Transformer model.\n",
    "\n",
    "<br><br>\n",
    "***!!!***\n",
    "\n",
    "#### Transformers doesn't live upto it's name in this particular task. (But that doesn't mean they are not capable!)"
   ]
  },
  {
   "cell_type": "code",
   "execution_count": 8,
   "metadata": {},
   "outputs": [
    {
     "name": "stdout",
     "output_type": "stream",
     "text": [
      "\n",
      "Loaded ('en', 'core_web_trf') model \n",
      "\n"
     ]
    },
    {
     "data": {
      "text/html": [
       "<span class=\"tex2jax_ignore\"><div class=\"entities\" style=\"line-height: 2.5; direction: ltr\">POS. DESCRIPTION QUANTITE   COMMANDEE QUANTITE   CONFIRMEE PRIX /  UNITE  NET /  UNITE  MONTANT  NET  10  PFWVTG001005000803 / PWVTGG50080 Z (*) Vis à panneaux PFS+ TF-T * 5,00x80 Zn (T25)  double tête plate \n",
       "<mark class=\"entity\" style=\"background: #e4e7d2; padding: 0.45em 0.6em; margin: 0 0.25em; line-height: 1; border-radius: 0.35em;\">\n",
       "    six\n",
       "    <span style=\"font-size: 0.8em; font-weight: bold; line-height: 1; border-radius: 0.35em; vertical-align: middle; margin-left: 0.5rem\">CARDINAL</span>\n",
       "</mark>\n",
       " lobes int. avec nervures  filet partiel - pointe coupante T17  emballage standard Art. client: 924734 QTE: 200 Pce  Demandé: 2.000 Pce Arrondi:  2.400 Pce  Stock: 2.400 Pce  49,97 / 1.000   Pce  -2 %  48,97 / 1.000   Pce  117,53   20  PFWVTV001004500603 / PWVTVK45060 Z (*) Vis à panneaux PFS+ TF-T * 4,50x60 Zn (T20)  double tête plate \n",
       "<mark class=\"entity\" style=\"background: #e4e7d2; padding: 0.45em 0.6em; margin: 0 0.25em; line-height: 1; border-radius: 0.35em;\">\n",
       "    six\n",
       "    <span style=\"font-size: 0.8em; font-weight: bold; line-height: 1; border-radius: 0.35em; vertical-align: middle; margin-left: 0.5rem\">CARDINAL</span>\n",
       "</mark>\n",
       " lobes int. avec nervures  filet total - pointe coupante T17  emballage petit Art. client: \n",
       "<mark class=\"entity\" style=\"background: #e4e7d2; padding: 0.45em 0.6em; margin: 0 0.25em; line-height: 1; border-radius: 0.35em;\">\n",
       "    929735\n",
       "    <span style=\"font-size: 0.8em; font-weight: bold; line-height: 1; border-radius: 0.35em; vertical-align: middle; margin-left: 0.5rem\">CARDINAL</span>\n",
       "</mark>\n",
       " QTE: \n",
       "<mark class=\"entity\" style=\"background: #e4e7d2; padding: 0.45em 0.6em; margin: 0 0.25em; line-height: 1; border-radius: 0.35em;\">\n",
       "    200\n",
       "    <span style=\"font-size: 0.8em; font-weight: bold; line-height: 1; border-radius: 0.35em; vertical-align: middle; margin-left: 0.5rem\">CARDINAL</span>\n",
       "</mark>\n",
       " Pce  2.400 Pce Stock: \n",
       "<mark class=\"entity\" style=\"background: #e4e7d2; padding: 0.45em 0.6em; margin: 0 0.25em; line-height: 1; border-radius: 0.35em;\">\n",
       "    2.400\n",
       "    <span style=\"font-size: 0.8em; font-weight: bold; line-height: 1; border-radius: 0.35em; vertical-align: middle; margin-left: 0.5rem\">CARDINAL</span>\n",
       "</mark>\n",
       " Pce  28,63 / 1.000 Pce 28,63 / 1.000 Pce  68,71   Sous Total \n",
       "<mark class=\"entity\" style=\"background: #e4e7d2; padding: 0.45em 0.6em; margin: 0 0.25em; line-height: 1; border-radius: 0.35em;\">\n",
       "    188,64   Remise\n",
       "    <span style=\"font-size: 0.8em; font-weight: bold; line-height: 1; border-radius: 0.35em; vertical-align: middle; margin-left: 0.5rem\">PERCENT</span>\n",
       "</mark>\n",
       " cumulée -2,40   Montant net \n",
       "<mark class=\"entity\" style=\"background: #e4e7d2; padding: 0.45em 0.6em; margin: 0 0.25em; line-height: 1; border-radius: 0.35em;\">\n",
       "    186,24   TVA\n",
       "    <span style=\"font-size: 0.8em; font-weight: bold; line-height: 1; border-radius: 0.35em; vertical-align: middle; margin-left: 0.5rem\">PERCENT</span>\n",
       "</mark>\n",
       " (\n",
       "<mark class=\"entity\" style=\"background: #e4e7d2; padding: 0.45em 0.6em; margin: 0 0.25em; line-height: 1; border-radius: 0.35em;\">\n",
       "    21%\n",
       "    <span style=\"font-size: 0.8em; font-weight: bold; line-height: 1; border-radius: 0.35em; vertical-align: middle; margin-left: 0.5rem\">PERCENT</span>\n",
       "</mark>\n",
       ") \n",
       "<mark class=\"entity\" style=\"background: #e4e7d2; padding: 0.45em 0.6em; margin: 0 0.25em; line-height: 1; border-radius: 0.35em;\">\n",
       "    39,11   \n",
       "    <span style=\"font-size: 0.8em; font-weight: bold; line-height: 1; border-radius: 0.35em; vertical-align: middle; margin-left: 0.5rem\">PERCENT</span>\n",
       "</mark>\n",
       "\n",
       "<mark class=\"entity\" style=\"background: #7aecec; padding: 0.45em 0.6em; margin: 0 0.25em; line-height: 1; border-radius: 0.35em;\">\n",
       "    Montant\n",
       "    <span style=\"font-size: 0.8em; font-weight: bold; line-height: 1; border-radius: 0.35em; vertical-align: middle; margin-left: 0.5rem\">ORG</span>\n",
       "</mark>\n",
       " total \n",
       "<mark class=\"entity\" style=\"background: #e4e7d2; padding: 0.45em 0.6em; margin: 0 0.25em; line-height: 1; border-radius: 0.35em;\">\n",
       "    225,35\n",
       "    <span style=\"font-size: 0.8em; font-weight: bold; line-height: 1; border-radius: 0.35em; vertical-align: middle; margin-left: 0.5rem\">CARDINAL</span>\n",
       "</mark>\n",
       "  Poids brut 27,600 KG</div></span>"
      ],
      "text/plain": [
       "<IPython.core.display.HTML object>"
      ]
     },
     "metadata": {},
     "output_type": "display_data"
    }
   ],
   "source": [
    "test_input = utils.load_text('assets/test_input.txt')\n",
    "transformer_model = utils.load_model('eng_transformers2')\n",
    "output = utils.inference(transformer_model, test_input, transformer=True)"
   ]
  },
  {
   "cell_type": "markdown",
   "metadata": {},
   "source": [
    "<br><br><br><br><br><br>\n",
    "\n",
    "# The most important relevation to me!!!\n",
    "\n",
    "**The simple Medium French model was able to capture the entities given and no need of Transformer models. Just needs need the consise and contextually important input training sample.**\n"
   ]
  },
  {
   "cell_type": "code",
   "execution_count": 9,
   "metadata": {},
   "outputs": [
    {
     "name": "stdout",
     "output_type": "stream",
     "text": [
      "\n",
      "Loaded ('fr', 'core_news_md') model \n",
      "\n"
     ]
    },
    {
     "data": {
      "text/html": [
       "<span class=\"tex2jax_ignore\"><div class=\"entities\" style=\"line-height: 2.5; direction: ltr\">POS. DESCRIPTION QUANTITE   COMMANDEE QUANTITE   CONFIRMEE PRIX /  UNITE  NET /  UNITE  MONTANT  NET  10  PFWVTG001005000803 / PWVTGG50080 Z (*) Vis à panneaux PFS+ TF-T * 5,00x80 Zn (T25)  double tête plate six lobes int. avec nervures  filet partiel - pointe coupante T17  emballage standard Art. client: 924734 QTE: 200 Pce  Demandé: 2.000 Pce Arrondi:  2.400 Pce  Stock: 2.400 Pce  \n",
       "<mark class=\"entity\" style=\"background: linear-gradient(90deg, #b58ecc, #5de6de); padding: 0.45em 0.6em; margin: 0 0.25em; line-height: 1; border-radius: 0.35em;\">\n",
       "    49,97 / 1.000\n",
       "    <span style=\"font-size: 0.8em; font-weight: bold; line-height: 1; border-radius: 0.35em; vertical-align: middle; margin-left: 0.5rem\">Price per Unit</span>\n",
       "</mark>\n",
       "   Pce  -2 %  \n",
       "<mark class=\"entity\" style=\"background: linear-gradient(90deg, #b58ecc, #5de6de); padding: 0.45em 0.6em; margin: 0 0.25em; line-height: 1; border-radius: 0.35em;\">\n",
       "    48,97 / 1.000\n",
       "    <span style=\"font-size: 0.8em; font-weight: bold; line-height: 1; border-radius: 0.35em; vertical-align: middle; margin-left: 0.5rem\">Price per Unit</span>\n",
       "</mark>\n",
       "   Pce  117,53   20  PFWVTV001004500603 / PWVTVK45060 Z (*) Vis à panneaux PFS+ TF-T * 4,50x60 Zn (T20)  double tête plate six lobes int. avec nervures  filet total - pointe coupante T17  emballage petit Art. client: \n",
       "<mark class=\"entity\" style=\"background: linear-gradient(90deg, #aa9cfc, #fc9ce7); padding: 0.45em 0.6em; margin: 0 0.25em; line-height: 1; border-radius: 0.35em;\">\n",
       "    929735\n",
       "    <span style=\"font-size: 0.8em; font-weight: bold; line-height: 1; border-radius: 0.35em; vertical-align: middle; margin-left: 0.5rem\">Art ID</span>\n",
       "</mark>\n",
       " QTE: 200 Pce  2.400 Pce Stock: 2.400 Pce  \n",
       "<mark class=\"entity\" style=\"background: linear-gradient(90deg, #b58ecc, #5de6de); padding: 0.45em 0.6em; margin: 0 0.25em; line-height: 1; border-radius: 0.35em;\">\n",
       "    28,63 / 1.000\n",
       "    <span style=\"font-size: 0.8em; font-weight: bold; line-height: 1; border-radius: 0.35em; vertical-align: middle; margin-left: 0.5rem\">Price per Unit</span>\n",
       "</mark>\n",
       " Pce \n",
       "<mark class=\"entity\" style=\"background: linear-gradient(90deg, #b58ecc, #5de6de); padding: 0.45em 0.6em; margin: 0 0.25em; line-height: 1; border-radius: 0.35em;\">\n",
       "    28,63 / 1.000\n",
       "    <span style=\"font-size: 0.8em; font-weight: bold; line-height: 1; border-radius: 0.35em; vertical-align: middle; margin-left: 0.5rem\">Price per Unit</span>\n",
       "</mark>\n",
       " Pce  68,71   Sous Total 188,64   Remise cumulée -2,40   Montant net 186,24   TVA (21%) 39,11   Montant total 225,35  Poids brut 27,600 KG</div></span>"
      ],
      "text/plain": [
       "<IPython.core.display.HTML object>"
      ]
     },
     "metadata": {},
     "output_type": "display_data"
    }
   ],
   "source": [
    "test_input = utils.load_text('assets/test_input.txt')\n",
    "transformer_model = utils.load_model('fr_model')\n",
    "output = utils.inference(transformer_model, test_input)"
   ]
  },
  {
   "cell_type": "code",
   "execution_count": null,
   "metadata": {},
   "outputs": [],
   "source": []
  }
 ],
 "metadata": {
  "kernelspec": {
   "display_name": "dlarith",
   "language": "python",
   "name": "dlarith"
  },
  "language_info": {
   "codemirror_mode": {
    "name": "ipython",
    "version": 3
   },
   "file_extension": ".py",
   "mimetype": "text/x-python",
   "name": "python",
   "nbconvert_exporter": "python",
   "pygments_lexer": "ipython3",
   "version": "3.9.6"
  }
 },
 "nbformat": 4,
 "nbformat_minor": 4
}
